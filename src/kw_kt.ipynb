{
 "cells": [
  {
   "cell_type": "code",
   "execution_count": 1,
   "id": "a60bdf06",
   "metadata": {},
   "outputs": [],
   "source": [
    "ip='172.31.19.202'\n",
    "db='amazon_sp_api'\n",
    "password='Techblooprint123'\n",
    "user=\"blooprint\"\n"
   ]
  },
  {
   "cell_type": "code",
   "execution_count": 2,
   "id": "97b9b7f5",
   "metadata": {},
   "outputs": [
    {
     "name": "stderr",
     "output_type": "stream",
     "text": [
      "Setting default log level to \"WARN\".\n",
      "To adjust logging level use sc.setLogLevel(newLevel). For SparkR, use setLogLevel(newLevel).\n",
      "25/09/23 06:42:24 WARN NativeCodeLoader: Unable to load native-hadoop library for your platform... using builtin-java classes where applicable\n"
     ]
    }
   ],
   "source": [
    "from pyspark.sql import SparkSession\n",
    "import os\n",
    "from clickhouse_driver import Client\n",
    "import datetime\n",
    "spark = SparkSession.builder \\\n",
    "    .appName(\"BigCSVWrite\") \\\n",
    "    .config(\"spark.driver.memory\", \"5g\") \\\n",
    "    .config(\"spark.executor.memory\", \"6g\") \\\n",
    "    .getOrCreate()\n",
    "spark.conf.set(\"spark.sql.adaptive.enabled\", \"true\")\n",
    "spark.conf.set(\"spark.sql.shuffle.partitions\", \"50\")\n",
    "from pyspark.sql import SparkSession\n",
    "from pyspark.sql import DataFrame  # or: from pyspark.sql.dataframe import DataFrame\n",
    "from pyspark.sql import functions as F, types as T\n",
    "from pyspark.sql import SparkSession\n",
    "spark = SparkSession.builder.getOrCreate()\n",
    "from pyspark.sql.functions import broadcast\n",
    "from pyspark.sql import functions as F\n",
    "# Should not raise:\n",
    "spark.sparkContext._jvm.java.lang.Class.forName(\"org.postgresql.Driver\")\n",
    "\n",
    "URL  = os.getenv(\"PG_JDBC_URL\", f\"jdbc:postgresql://{ip}:5433/{db}\")\n",
    "USER = os.getenv(\"PG_USER\", user)\n",
    "PWD  = os.getenv(\"PG_PASSWORD\", password)"
   ]
  },
  {
   "cell_type": "code",
   "execution_count": 3,
   "id": "8e1e12bf",
   "metadata": {},
   "outputs": [],
   "source": [
    "import pygsheets\n",
    "import os\n",
    "import pandas\n",
    "def read_sheet(spreadsheet_id,sheet_name,index=0):\n",
    "    try:\n",
    "        index=int(index)\n",
    "        index=index%12\n",
    "        service_file_path = os.path.join(os.getcwd(), f\"key{index}.json\")\n",
    "        gc = pygsheets.authorize(service_file=service_file_path)\n",
    "        sh = gc.open_by_key(spreadsheet_id)\n",
    "        selected_sheet = sh.worksheet_by_title(sheet_name)\n",
    "        df = selected_sheet.get_as_df()\n",
    "        # database.rename_columns(df)\n",
    "        return df\n",
    "    except Exception as e:\n",
    "        print(f\"jhqwdf\",e)\n",
    "        pass\n"
   ]
  },
  {
   "cell_type": "code",
   "execution_count": 4,
   "id": "97ca9863",
   "metadata": {},
   "outputs": [],
   "source": [
    "base_sheet='1_zTZSaaAM0svrV26XoX59ZcTJ6MMcpSNV64UOvRDHeA'"
   ]
  },
  {
   "cell_type": "code",
   "execution_count": 5,
   "id": "c0919889",
   "metadata": {},
   "outputs": [],
   "source": [
    "df=read_sheet(base_sheet,'AZ',2)"
   ]
  },
  {
   "cell_type": "code",
   "execution_count": 6,
   "id": "31c90150",
   "metadata": {},
   "outputs": [],
   "source": [
    "all_sheet_ids=df['sheet_id'].to_list()"
   ]
  },
  {
   "cell_type": "code",
   "execution_count": 7,
   "id": "06719c33",
   "metadata": {},
   "outputs": [
    {
     "name": "stdout",
     "output_type": "stream",
     "text": [
      "1VHNcEG4EExsROyhb4eTU0yl4JYktNOrBW9VeUCU25cw\n"
     ]
    },
    {
     "name": "stderr",
     "output_type": "stream",
     "text": [
      "/home/jovyan/.local/lib/python3.8/site-packages/pygsheets/worksheet.py:1554: UserWarning: At least one column name in the data frame is an empty string. If this is a concern, please specify include_tailing_empty=False and/or ensure that each column containing data has a name.\n",
      "  warnings.warn('At least one column name in the data frame is an empty string. If this is a concern, please specify include_tailing_empty=False and/or ensure that each column containing data has a name.')\n"
     ]
    },
    {
     "name": "stdout",
     "output_type": "stream",
     "text": [
      "1Qkb_jo6DkEFlL8lnP2b3IVgUf8H2ww21TaoQgNTSJAE\n"
     ]
    },
    {
     "name": "stderr",
     "output_type": "stream",
     "text": [
      "/home/jovyan/.local/lib/python3.8/site-packages/pygsheets/worksheet.py:1554: UserWarning: At least one column name in the data frame is an empty string. If this is a concern, please specify include_tailing_empty=False and/or ensure that each column containing data has a name.\n",
      "  warnings.warn('At least one column name in the data frame is an empty string. If this is a concern, please specify include_tailing_empty=False and/or ensure that each column containing data has a name.')\n"
     ]
    },
    {
     "name": "stdout",
     "output_type": "stream",
     "text": [
      "1CxhjF6Rz4dg6udRjMCVehBk2cKO2B-U46SAmqmcgCyI\n",
      "1R1yAkW0C1NC_H2512AEI15BooNORv7Ad6Bs5EAdFRTE\n"
     ]
    },
    {
     "name": "stderr",
     "output_type": "stream",
     "text": [
      "/home/jovyan/.local/lib/python3.8/site-packages/pygsheets/worksheet.py:1554: UserWarning: At least one column name in the data frame is an empty string. If this is a concern, please specify include_tailing_empty=False and/or ensure that each column containing data has a name.\n",
      "  warnings.warn('At least one column name in the data frame is an empty string. If this is a concern, please specify include_tailing_empty=False and/or ensure that each column containing data has a name.')\n"
     ]
    },
    {
     "name": "stdout",
     "output_type": "stream",
     "text": [
      "15fn4kLCOU0YRT6ggyPX8s170-UQOFmEXpEmAln-OKCI\n",
      "1CiWc0CHuf8WtEOKg_nVRRijtNBRb60ardmVcgUZsp9A\n",
      "1fL0F1CQgkRGWW_iu0pY3cf5SOFQFw_ZbAqyDmvWRpgY\n",
      "jhqwdf \n",
      "1nv43vtcK6tNlXxmHDj2dySt646i4jG1JyyiTz6b8hUo\n"
     ]
    }
   ],
   "source": [
    "all_target_df=[]\n",
    "for sheet_id in all_sheet_ids:\n",
    "    print(sheet_id)\n",
    "    target_df=read_sheet(sheet_id,'Target ACOS AZ')\n",
    "    if target_df is not None:\n",
    "        target_df=target_df[['campaign_name','Target ACOS']].drop_duplicates()\n",
    "        all_target_df.append(target_df)\n"
   ]
  },
  {
   "cell_type": "code",
   "execution_count": 8,
   "id": "a6d3b5e5",
   "metadata": {},
   "outputs": [],
   "source": [
    "import pandas as pd"
   ]
  },
  {
   "cell_type": "code",
   "execution_count": 9,
   "id": "103a93f0",
   "metadata": {},
   "outputs": [],
   "source": [
    "all_campaign_target=pd.concat(all_target_df)"
   ]
  },
  {
   "cell_type": "code",
   "execution_count": 10,
   "id": "9fa7f44e",
   "metadata": {},
   "outputs": [],
   "source": [
    "all_campaign_target.to_csv(\"all_camp_target.csv\",index=False)"
   ]
  },
  {
   "cell_type": "code",
   "execution_count": 11,
   "id": "fede6d4e",
   "metadata": {},
   "outputs": [
    {
     "name": "stderr",
     "output_type": "stream",
     "text": [
      "                                                                                \r"
     ]
    }
   ],
   "source": [
    "# 2. Read CSV file\n",
    "target_df = spark.read.csv(\n",
    "    \"all_camp_target.csv\",\n",
    "    header=True,      # use first row as column names\n",
    "    inferSchema=True  # infer data types automatically\n",
    ")\n"
   ]
  },
  {
   "cell_type": "code",
   "execution_count": 12,
   "id": "7c0abd5c",
   "metadata": {},
   "outputs": [
    {
     "name": "stderr",
     "output_type": "stream",
     "text": [
      "                                                                                \r"
     ]
    }
   ],
   "source": [
    "\n",
    "\n",
    "\n",
    "(\n",
    "    target_df.write\n",
    "    .format(\"jdbc\")\n",
    "    .option(\"url\", URL)\n",
    "    .option(\"user\", USER)\n",
    "    .option(\"password\", PWD)\n",
    "    .option(\"driver\", \"org.postgresql.Driver\")\n",
    "    .option(\"dbtable\", \"public.target_info\")  # destination table\n",
    "    .mode(\"overwrite\")  # creates table if not exists, replaces if exists\n",
    "    .save()\n",
    ")\n"
   ]
  },
  {
   "cell_type": "code",
   "execution_count": 13,
   "id": "dedaf2f9",
   "metadata": {},
   "outputs": [],
   "source": [
    "os.remove('all_camp_target.csv')"
   ]
  },
  {
   "cell_type": "code",
   "execution_count": 14,
   "id": "fb11a0fd",
   "metadata": {},
   "outputs": [],
   "source": [
    "portfolio_query = \"(SELECT * FROM public.portfolio_id_name_mapping) AS p\"\n",
    "\n",
    "portfolio_id_name_mapping = (spark.read.format(\"jdbc\")\n",
    "      .option(\"url\", URL)\n",
    "      .option(\"user\", USER)\n",
    "      .option(\"password\", PWD)\n",
    "      .option(\"driver\", \"org.postgresql.Driver\")\n",
    "      .option(\"dbtable\", portfolio_query)\n",
    "      .load())\n",
    "campaign_query = \"(SELECT * FROM public.campaigns) as c\"\n",
    "campaigns = (spark.read.format(\"jdbc\")\n",
    "      .option(\"url\", URL)\n",
    "      .option(\"user\", USER)\n",
    "      .option(\"password\", PWD)\n",
    "      .option(\"driver\", \"org.postgresql.Driver\")\n",
    "      .option(\"dbtable\", campaign_query)\n",
    "      .load())\n",
    "competitor_query = \"(SELECT * FROM public.competitor_brand_data) as cb\"\n",
    "competitors = (spark.read.format(\"jdbc\")\n",
    "      .option(\"url\", URL)\n",
    "      .option(\"user\", USER)\n",
    "      .option(\"password\", PWD)\n",
    "      .option(\"driver\", \"org.postgresql.Driver\")\n",
    "      .option(\"dbtable\", competitor_query)\n",
    "      .load())\n",
    "sb_kw_query = \"(SELECT * FROM public.sponsored_brands_search_term) as sb\"\n",
    "sb_kw = (spark.read.format(\"jdbc\")\n",
    "      .option(\"url\", URL)\n",
    "      .option(\"user\", USER)\n",
    "      .option(\"password\", PWD)\n",
    "      .option(\"driver\", \"org.postgresql.Driver\")\n",
    "      .option(\"dbtable\", sb_kw_query)\n",
    "      .load())\n",
    "sp_kw_query = \"(SELECT * FROM public.sponsored_products_search_term) as sp\"\n",
    "sp_kw = (spark.read.format(\"jdbc\")\n",
    "      .option(\"url\", URL)\n",
    "      .option(\"user\", USER)\n",
    "      .option(\"password\", PWD)\n",
    "      .option(\"driver\", \"org.postgresql.Driver\")\n",
    "      .option(\"dbtable\", sp_kw_query)\n",
    "      .load())\n",
    "sd_kw_query = \"(SELECT * FROM public.sponsored_display_targeting) as sd\"\n",
    "sd_kw = (spark.read.format(\"jdbc\")\n",
    "      .option(\"url\", URL)\n",
    "      .option(\"user\", USER)\n",
    "      .option(\"password\", PWD)\n",
    "      .option(\"driver\", \"org.postgresql.Driver\")\n",
    "      .option(\"dbtable\", sd_kw_query)\n",
    "      .load())\n",
    "\n",
    "targets_query = \"(SELECT * FROM public.targets ) as t\"\n",
    "targets = (spark.read.format(\"jdbc\")\n",
    "      .option(\"url\", URL)\n",
    "      .option(\"user\", USER)\n",
    "      .option(\"password\", PWD)\n",
    "      .option(\"driver\", \"org.postgresql.Driver\")\n",
    "      .option(\"dbtable\", targets_query)\n",
    "      .load())\n",
    "bid_query=\"\"\"(SELECT unnamed_subquery.keyword_id,\n",
    "            unnamed_subquery.bid,\n",
    "            unnamed_subquery.bid_tym\n",
    "           FROM ( SELECT bid_values.keyword_id,\n",
    "                    bid_values.bid,\n",
    "                    bid_values.updated_date::date AS bid_tym,\n",
    "                    rank() OVER (PARTITION BY bid_values.keyword_id ORDER BY bid_values.updated_date DESC) AS rank\n",
    "                   FROM bid_values) unnamed_subquery\n",
    "          WHERE unnamed_subquery.rank = 1 ) bid\"\"\"\n",
    "bid_df = (spark.read.format(\"jdbc\")\n",
    "      .option(\"url\", URL)\n",
    "      .option(\"user\", USER)\n",
    "      .option(\"password\", PWD)\n",
    "      .option(\"driver\", \"org.postgresql.Driver\")\n",
    "      .option(\"dbtable\", bid_query)\n",
    "      .load())\n",
    "ads_query = \"(SELECT * FROM public.ads ) as a\"\n",
    "ads_df = (spark.read.format(\"jdbc\")\n",
    "      .option(\"url\", URL)\n",
    "      .option(\"user\", USER)\n",
    "      .option(\"password\", PWD)\n",
    "      .option(\"driver\", \"org.postgresql.Driver\")\n",
    "      .option(\"dbtable\", ads_query)\n",
    "      .load())\n",
    "\n",
    "campaign_df=campaigns.select(F.col(\"campaignId\").alias(\"campaign_id\"),\n",
    "                 F.col(\"portfolioId\").alias(\"portfolioId_camp\"),\n",
    "                 F.col(\"name\").alias(\"campaign_name\"),\n",
    "                 ).dropDuplicates(['campaign_id'])\n",
    "\n",
    "portfolio_df=portfolio_id_name_mapping.select(F.col(\"portfolioId\").alias(\"portfolioId\"),\n",
    "                                 F.col(\"name\").alias(\"portfolio_name\")).dropDuplicates(['portfolioId'])\n",
    "\n",
    "\n",
    "\n",
    "portfolio_mapping=campaign_df.join(portfolio_df,on=campaign_df['portfolioId_camp']==portfolio_df['portfolioId'],how='left')\n",
    "\n",
    "sb_search_term=sb_kw.select(F.col(\"account_name\"),\n",
    "             F.split(F.col(\"campaignId\").cast(\"string\"),\"\\\\.\").getItem(0).alias(\"campaignId\"),\n",
    "             F.col(\"campaignName\").alias(\"campaign_name\"),\n",
    "             F.split(F.col(\"adGroupId\").cast(\"string\"),\"\\\\.\").getItem(0).alias(\"ad_group_id\"),\n",
    "             F.col(\"adGroupName\").alias(\"ad_group_name\"),\n",
    "             F.split(F.col(\"keywordId\").cast(\"string\"),\"\\\\.\").getItem(0).alias(\"keyword_id\"),\n",
    "             F.col(\"keywordText\").alias(\"keyword\"),\n",
    "             F.col(\"searchTerm\").alias(\"search_term\"),\n",
    "             F.col(\"date\").cast(\"date\").alias(\"date\"),\n",
    "             F.col(\"impressions\").alias(\"impressions\"),\n",
    "             F.col(\"clicks\").alias(\"clicks\"),\n",
    "             F.col(\"cost\").alias(\"ad_spend\"),\n",
    "             F.col(\"sales\").alias(\"ads_sale\"),\n",
    "             F.col(\"unitsSold\").alias(\"ads_units\"),\n",
    "             F.col(\"matchType\").alias(\"match_type\"),\n",
    "\n",
    "\n",
    "             )\n",
    "sd_search_term=sd_kw.select(F.col(\"account_name\"),\n",
    "             F.split(F.col(\"campaignId\").cast(\"string\"),\"\\\\.\").getItem(0).alias(\"campaignId\"),\n",
    "             F.col(\"campaignName\").alias(\"campaign_name\"),\n",
    "             F.split(F.col(\"adGroupId\").cast(\"string\"),\"\\\\.\").getItem(0).alias(\"ad_group_id\"),\n",
    "             F.col(\"adGroupName\").alias(\"ad_group_name\"),\n",
    "             F.split(F.col(\"targetingId\").cast(\"string\"),\"\\\\.\").getItem(0).alias(\"keyword_id\"),\n",
    "             F.col(\"targetingText\").alias(\"keyword\"),\n",
    "             F.lit(\"not_applicable\").alias(\"search_term\"),\n",
    "             F.col(\"date\").cast(\"date\").alias(\"date\"),\n",
    "             F.col(\"impressions\").alias(\"impressions\"),\n",
    "             F.col(\"clicks\").alias(\"clicks\"),\n",
    "             F.col(\"cost\").alias(\"ad_spend\"),\n",
    "             F.col(\"sales\").alias(\"ads_sale\"),\n",
    "             F.col(\"unitsSold\").alias(\"ads_units\"),\n",
    "             F.lit(\"DSP TGT\").alias(\"match_type\"),\n",
    "\n",
    "             )\n",
    "sp_search_term=sp_kw.select(F.col(\"account_name\"),\n",
    "             F.split(F.col(\"campaignId\").cast(\"string\"),\"\\\\.\").getItem(0).alias(\"campaignId\"),\n",
    "             F.col(\"campaignName\").alias(\"campaign_name\"),\n",
    "             F.split(F.col(\"adGroupId\").cast(\"string\"),\"\\\\.\").getItem(0).alias(\"ad_group_id\"),\n",
    "             F.col(\"adGroupName\").alias(\"ad_group_name\"),\n",
    "             F.split(F.col(\"keywordId\").cast(\"string\"),\"\\\\.\").getItem(0).alias(\"keyword_id\"),\n",
    "             F.col(\"targeting\").alias(\"keyword\"),\n",
    "             F.col(\"searchTerm\").alias(\"search_term\"),\n",
    "             F.col(\"date\").cast(\"date\").alias(\"date\"),\n",
    "             F.col(\"impressions\").alias(\"impressions\"),\n",
    "             F.col(\"clicks\").alias(\"clicks\"),\n",
    "             F.col(\"cost\").alias(\"ad_spend\"),\n",
    "             F.col(\"sales30d\").alias(\"ads_sale\"),\n",
    "             F.col(\"unitsSoldSameSku1d\").alias(\"ads_units\"),\n",
    "             F.col(\"matchType\").alias(\"match_type\"),\n",
    "\n",
    "\n",
    "             )\n",
    "keyword_df=sp_search_term.unionByName(sb_search_term).unionByName(sd_search_term)\n",
    "\n",
    "\n",
    "# ads_df=(ads_df.select(\n",
    "#     F.col(\"campaignId\").alias(\"campaign_id\"),\n",
    "#     F.col(\"adProduct\").alias(\"ad_product\"),\n",
    "#     F.col(\"adType\").alias(\"ad_type\"),\n",
    "#     F.col(\"state\").alias(\"CAMP STATUS\")\n",
    "# ).dropDuplicates()\n",
    "# .withColumn(\"ads_type\",\n",
    "#     F.when(F.col(\"ad_product\")==\"SPONSORED_PRODUCTS\",\"SP\")\n",
    "#     .when((F.col(\"ad_product\")==\"SPONSORED_BRANDS\")&(F.col(\"ad_type\").isin(\"BRAND_VIDEO\",\"VIDEO\")),\"SBV\")\n",
    "#     .when((F.col(\"ad_product\")==\"SPONSORED_BRANDS\")&(F.col(\"ad_type\")==\"PRODUCT_COLLECTION\"),\"SBB\")\n",
    "#     .when((F.col(\"ad_product\")==\"SPONSORED_BRANDS\")&(F.col(\"ad_type\")==\"STORE_SPOTLIGHT\"),\"SBS\")\n",
    "#     .when((F.col(\"ad_product\")==\"SPONSORED_DISPLAY\")&(F.col(\"ad_type\")==\"IMAGE\"),\"SDI\")\n",
    "#     .when((F.col(\"ad_product\")==\"SPONSORED_DISPLAY\")&(F.col(\"ad_type\")==\"PRODUCT_AD\"),\"SDP\")\n",
    "#     .when((F.col(\"ad_product\")==\"SPONSORED_DISPLAY\")&(F.col(\"ad_type\")==\"VIDEO\"),\"SDV\")\n",
    "#     .otherwise(\"Not Applicable\")          \n",
    "# ).select(\n",
    "#     \"campaign_id\",\"ads_type\",\"CAMP STATUS\"\n",
    "# )\n",
    "# )\n",
    "\n",
    "# ads_df = ads_df.dropDuplicates([\"campaign_id\"])\n",
    "\n",
    "\n",
    "\n",
    "# portfolio_mapping = portfolio_mapping.dropDuplicates([\"campaign_id\"])\n",
    "\n",
    "# bid_df = bid_df.dropDuplicates([\"keyword_id\"])\n",
    "\n",
    "\n",
    "\n",
    "# keyword_df=keyword_df.join(\n",
    "#     F.broadcast(bid_df),\n",
    "#     on=\"keyword_id\",\n",
    "#     how=\"left\"\n",
    "# )\n",
    "\n",
    "\n",
    "# portfolio_info=portfolio_mapping.select(\"portfolio_name\",\"campaign_id\",).join(campaign_info ,on =\"campaign_id\",how=\"left\").withColumnRenamed(\"campaign_id\", \"campaignId\")\n",
    "# final_df=keyword_df.join(portfolio_info,on=\"campaignId\",how=\"left\")\n",
    "# final_df=(\n",
    "#     final_df\n",
    "#     .withColumn(\n",
    "#         \"CPC\",\n",
    "#         F.when(F.col(\"clicks\") != 0,\n",
    "#                F.round(F.col(\"ad_spend\") / F.col(\"clicks\"), 0)\n",
    "#         ).otherwise(F.lit(0))\n",
    "#     )\n",
    "#     .withColumn(\n",
    "#         \"ROI\",\n",
    "#         F.when(F.col(\"ad_spend\") != 0,\n",
    "#                F.round(F.col(\"ads_sale\") / F.col(\"ad_spend\"), 0)\n",
    "#         ).otherwise(F.lit(0))\n",
    "#     )\n",
    "#     .withColumn(\n",
    "#         \"ACOS\",\n",
    "#         F.when(F.col(\"ads_sale\") != 0,\n",
    "#                F.round((F.col(\"ad_spend\") * 100) / F.col(\"ads_sale\"), 0)\n",
    "#         ).otherwise(F.lit(0))\n",
    "#     )\n",
    "#     .withColumn(\n",
    "#         \"CVR\",\n",
    "#         F.when(F.col(\"clicks\") != 0,\n",
    "#                F.round((F.col(\"ads_units\") * 100) / F.col(\"clicks\"), 0)\n",
    "#         ).otherwise(F.lit(0))\n",
    "#     )\n",
    "# )\n"
   ]
  },
  {
   "cell_type": "code",
   "execution_count": 15,
   "id": "c7800b26",
   "metadata": {},
   "outputs": [],
   "source": [
    "\n",
    "keyword_df=keyword_df.groupby(\"account_name\",\"campaignId\",\"ad_group_id\",\"keyword_id\",\"date\").agg(\n",
    "F.sum(\"impressions\").alias(\"impressions\"),\n",
    "F.sum(\"clicks\").alias(\"clicks\"),\n",
    "F.sum(\"ad_spend\").alias(\"ad_spend\"),\n",
    "F.sum(\"ads_sale\").alias(\"ads_sale\"),\n",
    "F.sum(\"ads_units\").alias(\"ads_units\")\n",
    ")\n"
   ]
  },
  {
   "cell_type": "code",
   "execution_count": 16,
   "id": "86492a63",
   "metadata": {},
   "outputs": [],
   "source": [
    "ads_df=(ads_df.select(\n",
    "    F.col(\"account_name\").alias(\"ads_account_name\"),\n",
    "    F.col(\"campaignId\").alias(\"ads_campaign_id\"),\n",
    "    F.col(\"adProduct\").alias(\"ad_product\"),\n",
    "    F.col(\"adType\").alias(\"ad_type\"),\n",
    "    F.col(\"state\").alias(\"CAMP STATUS\"),\n",
    "    F.col(\"creative_products\")\n",
    ").dropDuplicates()\n",
    ".withColumn(\"ads_type\",\n",
    "    F.when(F.col(\"ad_product\")==\"SPONSORED_PRODUCTS\",\"SP\")\n",
    "    .when((F.col(\"ad_product\")==\"SPONSORED_BRANDS\")&(F.col(\"ad_type\").isin(\"BRAND_VIDEO\",\"VIDEO\")),\"SBV\")\n",
    "    .when((F.col(\"ad_product\")==\"SPONSORED_BRANDS\")&(F.col(\"ad_type\")==\"PRODUCT_COLLECTION\"),\"SBB\")\n",
    "    .when((F.col(\"ad_product\")==\"SPONSORED_BRANDS\")&(F.col(\"ad_type\")==\"STORE_SPOTLIGHT\"),\"SBS\")\n",
    "    .when((F.col(\"ad_product\")==\"SPONSORED_DISPLAY\")&(F.col(\"ad_type\")==\"IMAGE\"),\"SDI\")\n",
    "    .when((F.col(\"ad_product\")==\"SPONSORED_DISPLAY\")&(F.col(\"ad_type\")==\"PRODUCT_AD\"),\"SDP\")\n",
    "    .when((F.col(\"ad_product\")==\"SPONSORED_DISPLAY\")&(F.col(\"ad_type\")==\"VIDEO\"),\"SDV\")\n",
    "    .otherwise(\"Not Applicable\")          \n",
    ").select(\n",
    "    \"ads_account_name\",\"ads_campaign_id\",\"ads_type\",\"CAMP STATUS\",\"creative_products\"\n",
    ")\n",
    ")\n",
    "\n"
   ]
  },
  {
   "cell_type": "code",
   "execution_count": 17,
   "id": "85398df3",
   "metadata": {},
   "outputs": [],
   "source": [
    "ads_df = ads_df.dropDuplicates([\"ads_campaign_id\"])\n"
   ]
  },
  {
   "cell_type": "code",
   "execution_count": 18,
   "id": "cb6eb487",
   "metadata": {},
   "outputs": [],
   "source": [
    "keyword_df=keyword_df.join(\n",
    "    F.broadcast(ads_df),\n",
    "    (keyword_df[\"account_name\"] == ads_df[\"ads_account_name\"]) &\n",
    "    (keyword_df[\"campaignId\"] == ads_df[\"ads_campaign_id\"]),\n",
    "    how=\"inner\"\n",
    ").drop(\"ads_account_name\",\"ads_campaign_id\")\\\n",
    ".filter(F.col(\"CAMP STATUS\")==\"ENABLED\")\\\n",
    "    .drop(\"CAMP STATUS\")"
   ]
  },
  {
   "cell_type": "code",
   "execution_count": 19,
   "id": "47f481ce",
   "metadata": {},
   "outputs": [],
   "source": [
    "schema = T.ArrayType(\n",
    "    T.StructType([\n",
    "        T.StructField(\"productIdType\", T.StringType()),\n",
    "        T.StructField(\"productId\", T.StringType())\n",
    "    ])\n",
    ")\n"
   ]
  },
  {
   "cell_type": "code",
   "execution_count": 20,
   "id": "a162b791",
   "metadata": {},
   "outputs": [],
   "source": [
    "keyword_df=keyword_df.withColumn(\"products\", F.from_json(F.col(\"creative_products\"), schema)).drop(\"creative_products\")"
   ]
  },
  {
   "cell_type": "code",
   "execution_count": 21,
   "id": "d4301839",
   "metadata": {},
   "outputs": [],
   "source": [
    "keyword_df=(\n",
    "    keyword_df\n",
    "    # keep only ASINs inside the array\n",
    "    .withColumn(\n",
    "        \"products\",\n",
    "        F.expr(\"filter(products, x -> x.productIdType = 'ASIN')\")\n",
    "    )\n",
    "    # extract only productId from the structs → list of ASINs\n",
    "    .withColumn(\n",
    "        \"asin_list\",\n",
    "        F.expr(\"transform(products, x -> x.productId)\")\n",
    "    )\n",
    "    .drop(\"products\")\n",
    ")\n",
    "keyword_df=keyword_df.withColumn(\"month\",\n",
    "    F.date_format(F.col(\"date\"),'MMM')\n",
    ").withColumn(\"year\",\n",
    "    F.year(F.col(\"date\"))\n",
    ")"
   ]
  },
  {
   "cell_type": "code",
   "execution_count": 22,
   "id": "830f9d67",
   "metadata": {},
   "outputs": [],
   "source": [
    "d='yesterday'"
   ]
  },
  {
   "cell_type": "code",
   "execution_count": 23,
   "id": "957e24d7",
   "metadata": {},
   "outputs": [],
   "source": [
    "import datetime"
   ]
  },
  {
   "cell_type": "code",
   "execution_count": 24,
   "id": "b8b4eb11",
   "metadata": {},
   "outputs": [],
   "source": [
    "\n",
    "yesterday = datetime.datetime.today() - datetime.timedelta(days = 1)\n",
    "last_7_days= datetime.datetime.today() - datetime.timedelta(days = 7)\n",
    "last_14_days= datetime.datetime.today() - datetime.timedelta(days = 14)\n",
    "last_30_days= datetime.datetime.today() - datetime.timedelta(days = 30)\n",
    "yesterday = yesterday.strftime('%Y-%m-%d')\n",
    "last_7_days = last_7_days.strftime('%Y-%m-%d')\n",
    "last_14_days = last_14_days.strftime('%Y-%m-%d')\n",
    "last_30_days = last_30_days.strftime('%Y-%m-%d')\n",
    "\n"
   ]
  },
  {
   "cell_type": "code",
   "execution_count": 25,
   "id": "c6a01aee",
   "metadata": {},
   "outputs": [],
   "source": [
    "\n",
    "# def calculate_metrics(i,mode=1):\n",
    "#     if mode ==1:\n",
    "#         if i == last_14_days:\n",
    "#             d='last_14_days'\n",
    "#         elif i == last_7_days:\n",
    "#             d='last_7_days'\n",
    "#         elif i == yesterday:\n",
    "#             d='yesterday'\n",
    "#         elif i == last_30_days:\n",
    "#             d='last_30_days'\n",
    "\n",
    "#         temp_df=keyword_df.filter(\n",
    "#             F.col('date')>=i\n",
    "#         )\n",
    "#     else:\n",
    "#         month=i[0]\n",
    "#         year=i[1]\n",
    "#         d=month\n",
    "\n",
    "\n",
    "#         temp_df=keyword_df.filter(\n",
    "#             (F.col('month')==month)&(F.col('year')==year)\n",
    "#         )\n",
    "#     agg_df=temp_df.groupby(\"account_name\",\"campaignId\",\"ad_group_id\",\"keyword_id\").agg(\n",
    "#         F.round(F.sum(\"impressions\"),0).alias(f\"impressions_{d}\"),\n",
    "#         F.round(F.sum(\"clicks\"),0).alias(f\"clicks_{d}\"),\n",
    "#         F.round(F.sum(\"ad_spend\"),0).alias(f\"ad_spend_{d}\"),\n",
    "#         F.round(F.sum(\"ads_sale\"),0).alias(f\"ads_sale_{d}\"),\n",
    "#         F.round(F.sum(\"ads_units\"),0).alias(f\"ads_units_{d}\")\n",
    "#         )\n",
    "#     agg_df=(\n",
    "#         agg_df\n",
    "#         .withColumn(\n",
    "#             f\"CPC_{d}\",\n",
    "#             F.when(F.col(f\"clicks_{d}\") != 0,\n",
    "#                 F.round(F.col(f\"ad_spend_{d}\") / F.col(f\"clicks_{d}\"), 2)\n",
    "#             ).otherwise(F.lit(0))\n",
    "#         )\n",
    "#         .withColumn(\n",
    "#             f\"CPA_{d}\",\n",
    "#             F.when(F.col(f\"ads_units_{d}\") != 0,\n",
    "#                 F.round(F.col(f\"ad_spend_{d}\") / F.col(f\"ads_units_{d}\"), 2)\n",
    "#             ).otherwise(F.lit(0))\n",
    "#         )\n",
    "#         .withColumn(\n",
    "#             f\"ACOS_{d}\",\n",
    "#             F.when(F.col(f\"ads_sale_{d}\") != 0,\n",
    "#                 F.round((F.col(f\"ad_spend_{d}\") * 100) / F.col(f\"ads_sale_{d}\"), 2)\n",
    "#             ).otherwise(F.lit(0))\n",
    "#         )\n",
    "#         .withColumn(\n",
    "#             f\"CVR_{d}\",\n",
    "#             F.when(F.col(f\"clicks_{d}\") != 0,\n",
    "#                 F.round((F.col(f\"ads_units_{d}\") * 100) / F.col(f\"clicks_{d}\"), 2)\n",
    "#             ).otherwise(F.lit(0))\n",
    "#         )\n",
    "#         .withColumn(\n",
    "#             f\"CTR_{d}\",\n",
    "#             F.when(F.col(f\"impressions_{d}\") != 0,  # <-- base impressions\n",
    "#                 F.round((F.col(f\"clicks_{d}\") * 100) / F.col(f\"impressions_{d}\"), 2)\n",
    "#             ).otherwise(F.lit(0))\n",
    "#         )\n",
    "#     )\n",
    "#     return agg_df\n",
    "\n",
    "def calculate_metrics(i, mode=1):\n",
    "    if mode == 1:\n",
    "        if i == last_14_days:\n",
    "            d = 'last_14_days'\n",
    "        elif i == last_7_days:\n",
    "            d = 'last_7_days'\n",
    "        elif i == yesterday:\n",
    "            d = 'yesterday'\n",
    "        elif i == last_30_days:\n",
    "            d = 'last_30_days'\n",
    "\n",
    "        temp_df = keyword_df.filter(F.col('date') >= i)\n",
    "    else:\n",
    "        month = i[0]\n",
    "        year = i[1]\n",
    "        d = month\n",
    "\n",
    "        temp_df = keyword_df.filter(\n",
    "            (F.col('month') == month) & (F.col('year') == year)\n",
    "        )\n",
    "\n",
    "    agg_df = temp_df.groupby(\"account_name\", \"campaignId\", \"ad_group_id\", \"keyword_id\").agg(\n",
    "        F.round(F.sum(\"impressions\"), 0).alias(f\"impressions_{d}\"),\n",
    "        F.round(F.sum(\"clicks\"), 0).alias(f\"clicks_{d}\"),\n",
    "        F.round(F.sum(\"ad_spend\"), 0).alias(f\"ad_spend_{d}\"),\n",
    "        F.round(F.sum(\"ads_sale\"), 0).alias(f\"ads_sale_{d}\"),\n",
    "        F.round(F.sum(\"ads_units\"), 0).alias(f\"ads_units_{d}\")\n",
    "    )\n",
    "\n",
    "    agg_df = (\n",
    "        agg_df\n",
    "        .withColumn(\n",
    "            f\"CPC_{d}\",\n",
    "            F.when(F.col(f\"clicks_{d}\") != 0,\n",
    "                   F.round(F.col(f\"ad_spend_{d}\") / F.col(f\"clicks_{d}\"), 2))\n",
    "            .otherwise(F.lit(0))\n",
    "        )\n",
    "        .withColumn(\n",
    "            f\"CPA_{d}\",\n",
    "            F.when(F.col(f\"ads_units_{d}\") != 0,\n",
    "                   F.round(F.col(f\"ad_spend_{d}\") / F.col(f\"ads_units_{d}\"), 2))\n",
    "            .otherwise(F.lit(0))\n",
    "        )\n",
    "        .withColumn(\n",
    "            f\"ACOS_{d}\",\n",
    "            F.when(F.col(f\"ads_sale_{d}\") != 0,\n",
    "                   F.round((F.col(f\"ad_spend_{d}\") * 100) / F.col(f\"ads_sale_{d}\"), 2))\n",
    "            .otherwise(F.lit(0))\n",
    "        )\n",
    "        .withColumn(\n",
    "            f\"CVR_{d}\",\n",
    "            F.when(F.col(f\"clicks_{d}\") != 0,\n",
    "                   F.round((F.col(f\"ads_units_{d}\") * 100) / F.col(f\"clicks_{d}\"), 2))\n",
    "            .otherwise(F.lit(0))\n",
    "        )\n",
    "        .withColumn(\n",
    "            f\"CTR_{d}\",\n",
    "            F.when(F.col(f\"impressions_{d}\") != 0,\n",
    "                   F.round((F.col(f\"clicks_{d}\") * 100) / F.col(f\"impressions_{d}\"), 2))\n",
    "            .otherwise(F.lit(0))\n",
    "        )\n",
    "    )\n",
    "\n",
    "    # ✅ Replace nulls in numeric columns with 0\n",
    "    agg_df = agg_df.fillna(0)\n",
    "\n",
    "\n",
    "    return agg_df"
   ]
  },
  {
   "cell_type": "code",
   "execution_count": 26,
   "id": "f1d27a3d",
   "metadata": {},
   "outputs": [],
   "source": [
    "\n",
    "current_month = datetime.date.today().month\n",
    "from functools import reduce\n",
    "\n",
    "dfs = []\n",
    "time_cut=[yesterday,last_7_days,last_14_days,last_30_days]\n",
    "for time_duration in time_cut:\n",
    "    df=calculate_metrics(time_duration, 1)\n",
    "    dfs.append(df)\n",
    "\n",
    "\n",
    "for m in range(current_month ,current_month - 4,-1):\n",
    "    month_name = datetime.date(1900, m, 1).strftime(\"%b\")\n",
    "\n",
    "    df = calculate_metrics([month_name, 2025], 2)\n",
    "    \n",
    "    dfs.append(df)\n",
    "\n",
    "\n",
    "\n",
    "if dfs:\n",
    "    final_df = reduce(\n",
    "        lambda left, right: left.join(\n",
    "            right,\n",
    "            on=[\"account_name\", \"campaignId\", \"ad_group_id\", \"keyword_id\"],\n",
    "            how=\"outer\"\n",
    "        ),\n",
    "        dfs\n",
    "    )\n",
    "\n",
    "final_df=final_df.fillna(0)"
   ]
  },
  {
   "cell_type": "code",
   "execution_count": 27,
   "id": "5a140f19",
   "metadata": {},
   "outputs": [],
   "source": [
    "kw_meta_data=keyword_df.select(\n",
    "    \"account_name\",\"campaignId\",\"ad_group_id\",\"keyword_id\",\"asin_list\"\n",
    ").dropDuplicates()"
   ]
  },
  {
   "cell_type": "code",
   "execution_count": 28,
   "id": "510a2ca2",
   "metadata": {},
   "outputs": [],
   "source": [
    "\n",
    "portfolio_meta_data=kw_meta_data.join(F.broadcast(portfolio_mapping),how='left',on=kw_meta_data['campaignId']==portfolio_mapping['campaign_id'])"
   ]
  },
  {
   "cell_type": "code",
   "execution_count": 29,
   "id": "6be9d0fb",
   "metadata": {},
   "outputs": [],
   "source": [
    "portfolio_meta_data=portfolio_meta_data.drop('account_name','campaign_id','portfolioId_camp')"
   ]
  },
  {
   "cell_type": "code",
   "execution_count": 30,
   "id": "ed737993",
   "metadata": {},
   "outputs": [],
   "source": [
    "campaign_target_query = \"(SELECT * FROM public.target_info) AS p\"\n",
    "\n",
    "campaign_target_df = (spark.read.format(\"jdbc\")\n",
    "      .option(\"url\", URL)\n",
    "      .option(\"user\", USER)\n",
    "      .option(\"password\", PWD)\n",
    "      .option(\"driver\", \"org.postgresql.Driver\")\n",
    "      .option(\"dbtable\", campaign_target_query)\n",
    "      .load())"
   ]
  },
  {
   "cell_type": "code",
   "execution_count": 31,
   "id": "63f31c49",
   "metadata": {},
   "outputs": [],
   "source": [
    "# Keys to join on\n",
    "join_keys = [\"campaignId\", \"ad_group_id\", \"keyword_id\"]\n",
    "\n",
    "# Perform join\n",
    "final_mapped_data = (\n",
    "    final_df\n",
    "    .join(\n",
    "        F.broadcast(portfolio_meta_data),\n",
    "        on=join_keys,   # join on multiple columns\n",
    "        how=\"left\"      # keep all rows from final_df\n",
    "    )\n",
    ")"
   ]
  },
  {
   "cell_type": "code",
   "execution_count": 39,
   "id": "4a31d39a",
   "metadata": {},
   "outputs": [],
   "source": [
    "mapped_acos=(\n",
    "    final_mapped_data\n",
    "    .join(\n",
    "        F.broadcast(campaign_target_df),\n",
    "        on='campaign_name',   # join on multiple columns\n",
    "        how=\"left\"      # keep all rows from final_df\n",
    "    )\n",
    ")"
   ]
  },
  {
   "cell_type": "code",
   "execution_count": 33,
   "id": "5c21b70e",
   "metadata": {},
   "outputs": [
    {
     "data": {
      "text/plain": [
       "['campaign_name',\n",
       " 'campaignId',\n",
       " 'ad_group_id',\n",
       " 'keyword_id',\n",
       " 'account_name',\n",
       " 'impressions_yesterday',\n",
       " 'clicks_yesterday',\n",
       " 'ad_spend_yesterday',\n",
       " 'ads_sale_yesterday',\n",
       " 'ads_units_yesterday',\n",
       " 'CPC_yesterday',\n",
       " 'CPA_yesterday',\n",
       " 'ACOS_yesterday',\n",
       " 'CVR_yesterday',\n",
       " 'CTR_yesterday',\n",
       " 'impressions_last_7_days',\n",
       " 'clicks_last_7_days',\n",
       " 'ad_spend_last_7_days',\n",
       " 'ads_sale_last_7_days',\n",
       " 'ads_units_last_7_days',\n",
       " 'CPC_last_7_days',\n",
       " 'CPA_last_7_days',\n",
       " 'ACOS_last_7_days',\n",
       " 'CVR_last_7_days',\n",
       " 'CTR_last_7_days',\n",
       " 'impressions_last_14_days',\n",
       " 'clicks_last_14_days',\n",
       " 'ad_spend_last_14_days',\n",
       " 'ads_sale_last_14_days',\n",
       " 'ads_units_last_14_days',\n",
       " 'CPC_last_14_days',\n",
       " 'CPA_last_14_days',\n",
       " 'ACOS_last_14_days',\n",
       " 'CVR_last_14_days',\n",
       " 'CTR_last_14_days',\n",
       " 'impressions_last_30_days',\n",
       " 'clicks_last_30_days',\n",
       " 'ad_spend_last_30_days',\n",
       " 'ads_sale_last_30_days',\n",
       " 'ads_units_last_30_days',\n",
       " 'CPC_last_30_days',\n",
       " 'CPA_last_30_days',\n",
       " 'ACOS_last_30_days',\n",
       " 'CVR_last_30_days',\n",
       " 'CTR_last_30_days',\n",
       " 'impressions_Sep',\n",
       " 'clicks_Sep',\n",
       " 'ad_spend_Sep',\n",
       " 'ads_sale_Sep',\n",
       " 'ads_units_Sep',\n",
       " 'CPC_Sep',\n",
       " 'CPA_Sep',\n",
       " 'ACOS_Sep',\n",
       " 'CVR_Sep',\n",
       " 'CTR_Sep',\n",
       " 'impressions_Aug',\n",
       " 'clicks_Aug',\n",
       " 'ad_spend_Aug',\n",
       " 'ads_sale_Aug',\n",
       " 'ads_units_Aug',\n",
       " 'CPC_Aug',\n",
       " 'CPA_Aug',\n",
       " 'ACOS_Aug',\n",
       " 'CVR_Aug',\n",
       " 'CTR_Aug',\n",
       " 'impressions_Jul',\n",
       " 'clicks_Jul',\n",
       " 'ad_spend_Jul',\n",
       " 'ads_sale_Jul',\n",
       " 'ads_units_Jul',\n",
       " 'CPC_Jul',\n",
       " 'CPA_Jul',\n",
       " 'ACOS_Jul',\n",
       " 'CVR_Jul',\n",
       " 'CTR_Jul',\n",
       " 'impressions_Jun',\n",
       " 'clicks_Jun',\n",
       " 'ad_spend_Jun',\n",
       " 'ads_sale_Jun',\n",
       " 'ads_units_Jun',\n",
       " 'CPC_Jun',\n",
       " 'CPA_Jun',\n",
       " 'ACOS_Jun',\n",
       " 'CVR_Jun',\n",
       " 'CTR_Jun',\n",
       " 'asin_list',\n",
       " 'portfolioId',\n",
       " 'portfolio_name',\n",
       " 'Target ACOS']"
      ]
     },
     "execution_count": 33,
     "metadata": {},
     "output_type": "execute_result"
    }
   ],
   "source": [
    "mapped_acos.columns"
   ]
  },
  {
   "cell_type": "code",
   "execution_count": 51,
   "id": "93e4e86a",
   "metadata": {},
   "outputs": [],
   "source": [
    "ads_automation_sheet='14aA8eKlsJqCd8mrNZcZOcnwW5pGICTZKs7DVE-IjO8Q'\n",
    "df=read_sheet(ads_automation_sheet,'Account_level_setting',2)"
   ]
  },
  {
   "cell_type": "code",
   "execution_count": 52,
   "id": "8dc57dce",
   "metadata": {},
   "outputs": [],
   "source": [
    "df.to_csv(\"account_setting.csv\",index=False)"
   ]
  },
  {
   "cell_type": "code",
   "execution_count": 53,
   "id": "18777d74",
   "metadata": {},
   "outputs": [],
   "source": [
    "account_setting=spark.read.csv(\n",
    "    \"account_setting.csv\",\n",
    "    header=True,      # use first row as column names\n",
    "    inferSchema=True  # infer data types automatically\n",
    ")\n"
   ]
  },
  {
   "cell_type": "code",
   "execution_count": 54,
   "id": "deeeb42d",
   "metadata": {},
   "outputs": [],
   "source": [
    "account_setting_joined = mapped_acos.alias(\"m\").join(\n",
    "    account_setting.alias(\"a\"),\n",
    "    on=\"account_name\",\n",
    "    how=\"left\"\n",
    ")"
   ]
  },
  {
   "cell_type": "code",
   "execution_count": 81,
   "id": "aa5c9923",
   "metadata": {},
   "outputs": [],
   "source": [
    "\n",
    "\n",
    "# Fill null Target ACOS from account_setting.target_acos\n",
    "mapped_acos_ratio=account_setting_joined.withColumn(\n",
    "    \"Target ACOS\",\n",
    "    F.coalesce(F.col(\"m.Target ACOS\"), F.col(\"a.target_acos\"))\n",
    ").drop(\"a.target_acos\")\n",
    "\n"
   ]
  },
  {
   "cell_type": "code",
   "execution_count": 82,
   "id": "9b21aa5e",
   "metadata": {},
   "outputs": [
    {
     "name": "stderr",
     "output_type": "stream",
     "text": [
      "[Stage 902:>                                                        (0 + 4) / 4]\r"
     ]
    },
    {
     "name": "stdout",
     "output_type": "stream",
     "text": [
      "+-----------------+--------------------+---------------+---------------+---------------+---------------------+----------------+------------------+------------------+-------------------+-------------+-------------+--------------+-------------+-------------+-----------------------+------------------+--------------------+--------------------+---------------------+---------------+---------------+----------------+---------------+---------------+------------------------+-------------------+---------------------+---------------------+----------------------+----------------+----------------+-----------------+----------------+----------------+------------------------+-------------------+---------------------+---------------------+----------------------+----------------+----------------+-----------------+----------------+----------------+---------------+----------+------------+------------+-------------+-------+-------+--------+-------+-------+---------------+----------+------------+------------+-------------+-------+-------+--------+-------+-------+---------------+----------+------------+------------+-------------+-------+-------+--------+-------+-------+---------------+----------+------------+------------+-------------+-------+-------+--------+-------+-------+------------+---------------+--------------+-----------+-----------+\n",
      "|     account_name|       campaign_name|     campaignId|    ad_group_id|     keyword_id|impressions_yesterday|clicks_yesterday|ad_spend_yesterday|ads_sale_yesterday|ads_units_yesterday|CPC_yesterday|CPA_yesterday|ACOS_yesterday|CVR_yesterday|CTR_yesterday|impressions_last_7_days|clicks_last_7_days|ad_spend_last_7_days|ads_sale_last_7_days|ads_units_last_7_days|CPC_last_7_days|CPA_last_7_days|ACOS_last_7_days|CVR_last_7_days|CTR_last_7_days|impressions_last_14_days|clicks_last_14_days|ad_spend_last_14_days|ads_sale_last_14_days|ads_units_last_14_days|CPC_last_14_days|CPA_last_14_days|ACOS_last_14_days|CVR_last_14_days|CTR_last_14_days|impressions_last_30_days|clicks_last_30_days|ad_spend_last_30_days|ads_sale_last_30_days|ads_units_last_30_days|CPC_last_30_days|CPA_last_30_days|ACOS_last_30_days|CVR_last_30_days|CTR_last_30_days|impressions_Sep|clicks_Sep|ad_spend_Sep|ads_sale_Sep|ads_units_Sep|CPC_Sep|CPA_Sep|ACOS_Sep|CVR_Sep|CTR_Sep|impressions_Aug|clicks_Aug|ad_spend_Aug|ads_sale_Aug|ads_units_Aug|CPC_Aug|CPA_Aug|ACOS_Aug|CVR_Aug|CTR_Aug|impressions_Jul|clicks_Jul|ad_spend_Jul|ads_sale_Jul|ads_units_Jul|CPC_Jul|CPA_Jul|ACOS_Jul|CVR_Jul|CTR_Jul|impressions_Jun|clicks_Jun|ad_spend_Jun|ads_sale_Jun|ads_units_Jun|CPC_Jun|CPA_Jun|ACOS_Jun|CVR_Jun|CTR_Jun|   asin_list|    portfolioId|portfolio_name|Target ACOS|target_acos|\n",
      "+-----------------+--------------------+---------------+---------------+---------------+---------------------+----------------+------------------+------------------+-------------------+-------------+-------------+--------------+-------------+-------------+-----------------------+------------------+--------------------+--------------------+---------------------+---------------+---------------+----------------+---------------+---------------+------------------------+-------------------+---------------------+---------------------+----------------------+----------------+----------------+-----------------+----------------+----------------+------------------------+-------------------+---------------------+---------------------+----------------------+----------------+----------------+-----------------+----------------+----------------+---------------+----------+------------+------------+-------------+-------+-------+--------+-------+-------+---------------+----------+------------+------------+-------------+-------+-------+--------+-------+-------+---------------+----------+------------+------------+-------------+-------+-------+--------+-------+-------+---------------+----------+------------+------------+-------------+-------+-------+--------+-------+-------+------------+---------------+--------------+-----------+-----------+\n",
      "|BESTTECHNOLOGIESS|Unadvertised ASIN...|196077384632867|206080746161630|221160677130448|                    0|               0|                 0|                 0|                  0|         0.00|         0.00|          0.00|         0.00|         0.00|                      0|                 0|                   0|                   0|                    0|           0.00|           0.00|            0.00|           0.00|           0.00|                       0|                  0|                    0|                    0|                     0|            0.00|            0.00|             0.00|            0.00|            0.00|                     196|                  3|                   14|                    0|                     0|            4.67|            0.00|             0.00|            0.00|            1.53|              0|         0|           0|           0|            0|   0.00|   0.00|    0.00|   0.00|   0.00|            259|        10|          41|           0|            0|   4.10|   0.00|    0.00|   0.00|   3.86|              0|         0|           0|           0|            0|   0.00|   0.00|    0.00|   0.00|   0.00|              0|         0|           0|           0|            0|   0.00|   0.00|    0.00|   0.00|   0.00|[B0C46S4LS4]|           NULL|          NULL|        100|        100|\n",
      "|BESTTECHNOLOGIESS|Eco 1 Burner-B0C4...|369648973816171|360327666761265|   793633598723|                    0|               0|                 0|                 0|                  0|         0.00|         0.00|          0.00|         0.00|         0.00|                      0|                 0|                   0|                   0|                    0|           0.00|           0.00|            0.00|           0.00|           0.00|                       0|                  0|                    0|                    0|                     0|            0.00|            0.00|             0.00|            0.00|            0.00|                     441|                 11|                   86|                    0|                     0|            7.82|            0.00|             0.00|            0.00|            2.49|             33|         3|          26|           0|            0|   8.67|   0.00|    0.00|   0.00|   9.09|           1269|        33|         217|           0|            0|   6.58|   0.00|    0.00|   0.00|   2.60|              0|         0|           0|           0|            0|   0.00|   0.00|    0.00|   0.00|   0.00|           3021|        76|         381|           0|            0|   5.01|   0.00|    0.00|   0.00|   2.52|[B0C4HX6V2Z]| 14233056753425|  Eco_1_Burner|        100|        100|\n",
      "|BESTTECHNOLOGIESS|ECO 4 Burner-BA-S...|418943154503658|402363784720169|135115238443055|                    0|               0|                 0|                 0|                  0|         0.00|         0.00|          0.00|         0.00|         0.00|                      0|                 0|                   0|                   0|                    0|           0.00|           0.00|            0.00|           0.00|           0.00|                       0|                  0|                    0|                    0|                     0|            0.00|            0.00|             0.00|            0.00|            0.00|                       3|                  1|                    5|                    0|                     0|            5.00|            0.00|             0.00|            0.00|           33.33|              0|         0|           0|           0|            0|   0.00|   0.00|    0.00|   0.00|   0.00|              3|         1|           5|           0|            0|   5.00|   0.00|    0.00|   0.00|  33.33|              0|         0|           0|           0|            0|   0.00|   0.00|    0.00|   0.00|   0.00|              0|         0|           0|           0|            0|   0.00|   0.00|    0.00|   0.00|   0.00|[B0CBMXCYG2]|266965785438810|  Eco_4_Burner|        100|        100|\n",
      "|BESTTECHNOLOGIESS|ECO 4 Burner-BA-S...|418943154503658|402363784720169|141819146603467|                    0|               0|                 0|                 0|                  0|         0.00|         0.00|          0.00|         0.00|         0.00|                     94|                 2|                  28|                   0|                    0|          14.00|           0.00|            0.00|           0.00|           2.13|                     128|                  3|                   41|                    0|                     0|           13.67|            0.00|             0.00|            0.00|            2.34|                     295|                  9|                  125|                    0|                     0|           13.89|            0.00|             0.00|            0.00|            3.05|            168|         5|          70|           0|            0|  14.00|   0.00|    0.00|   0.00|   2.98|            131|         5|          71|           0|            0|  14.20|   0.00|    0.00|   0.00|   3.82|              0|         0|           0|           0|            0|   0.00|   0.00|    0.00|   0.00|   0.00|            174|         6|          52|           0|            0|   8.67|   0.00|    0.00|   0.00|   3.45|[B0CBMXCYG2]|266965785438810|  Eco_4_Burner|        100|        100|\n",
      "|BESTTECHNOLOGIESS|ECO 4 Burner-BA-S...|418943154503658|402363784720169|144770298857248|                    0|               0|                 0|                 0|                  0|         0.00|         0.00|          0.00|         0.00|         0.00|                    134|                 4|                  47|                   0|                    0|          11.75|           0.00|            0.00|           0.00|           2.99|                     136|                  5|                   60|                    0|                     0|           12.00|            0.00|             0.00|            0.00|            3.68|                     173|                  8|                  100|                    0|                     0|           12.50|            0.00|             0.00|            0.00|            4.62|            173|         8|         100|           0|            0|  12.50|   0.00|    0.00|   0.00|   4.62|            318|         7|          94|           0|            0|  13.43|   0.00|    0.00|   0.00|   2.20|              0|         0|           0|           0|            0|   0.00|   0.00|    0.00|   0.00|   0.00|            178|         5|          47|           0|            0|   9.40|   0.00|    0.00|   0.00|   2.81|[B0CBMXCYG2]|266965785438810|  Eco_4_Burner|        100|        100|\n",
      "|BESTTECHNOLOGIESS|ECO 4 Burner-BA-S...|418943154503658|402363784720169|146548040982646|                    0|               0|                 0|                 0|                  0|         0.00|         0.00|          0.00|         0.00|         0.00|                      0|                 0|                   0|                   0|                    0|           0.00|           0.00|            0.00|           0.00|           0.00|                       0|                  0|                    0|                    0|                     0|            0.00|            0.00|             0.00|            0.00|            0.00|                       0|                  0|                    0|                    0|                     0|            0.00|            0.00|             0.00|            0.00|            0.00|              0|         0|           0|           0|            0|   0.00|   0.00|    0.00|   0.00|   0.00|            115|         2|          21|           0|            0|  10.50|   0.00|    0.00|   0.00|   1.74|              0|         0|           0|           0|            0|   0.00|   0.00|    0.00|   0.00|   0.00|            337|         7|          57|           0|            0|   8.14|   0.00|    0.00|   0.00|   2.08|[B0CBMXCYG2]|266965785438810|  Eco_4_Burner|        100|        100|\n",
      "|BESTTECHNOLOGIESS|ECO 4 Burner-BA-S...|418943154503658|402363784720169| 14876215013090|                    0|               0|                 0|                 0|                  0|         0.00|         0.00|          0.00|         0.00|         0.00|                     18|                 1|                  14|                   0|                    0|          14.00|           0.00|            0.00|           0.00|           5.56|                      21|                  2|                   24|                    0|                     0|           12.00|            0.00|             0.00|            0.00|            9.52|                     322|                 11|                  182|                    0|                     0|           16.55|            0.00|             0.00|            0.00|            3.42|             65|         5|          78|           0|            0|  15.60|   0.00|    0.00|   0.00|   7.69|            306|        11|         180|           0|            0|  16.36|   0.00|    0.00|   0.00|   3.59|              0|         0|           0|           0|            0|   0.00|   0.00|    0.00|   0.00|   0.00|            108|         5|          53|           0|            0|  10.60|   0.00|    0.00|   0.00|   4.63|[B0CBMXCYG2]|266965785438810|  Eco_4_Burner|        100|        100|\n",
      "|BESTTECHNOLOGIESS|ECO 4 Burner-BA-S...|418943154503658|402363784720169|159329698100907|                    0|               0|                 0|                 0|                  0|         0.00|         0.00|          0.00|         0.00|         0.00|                      0|                 0|                   0|                   0|                    0|           0.00|           0.00|            0.00|           0.00|           0.00|                       0|                  0|                    0|                    0|                     0|            0.00|            0.00|             0.00|            0.00|            0.00|                       0|                  0|                    0|                    0|                     0|            0.00|            0.00|             0.00|            0.00|            0.00|              0|         0|           0|           0|            0|   0.00|   0.00|    0.00|   0.00|   0.00|             38|         2|          15|           0|            0|   7.50|   0.00|    0.00|   0.00|   5.26|              0|         0|           0|           0|            0|   0.00|   0.00|    0.00|   0.00|   0.00|             72|         6|          32|           0|            0|   5.33|   0.00|    0.00|   0.00|   8.33|[B0CBMXCYG2]|266965785438810|  Eco_4_Burner|        100|        100|\n",
      "|BESTTECHNOLOGIESS|ECO 4 Burner-BA-S...|418943154503658|402363784720169|164494467204938|                    0|               0|                 0|                 0|                  0|         0.00|         0.00|          0.00|         0.00|         0.00|                      0|                 0|                   0|                   0|                    0|           0.00|           0.00|            0.00|           0.00|           0.00|                       0|                  0|                    0|                    0|                     0|            0.00|            0.00|             0.00|            0.00|            0.00|                       0|                  0|                    0|                    0|                     0|            0.00|            0.00|             0.00|            0.00|            0.00|              0|         0|           0|           0|            0|   0.00|   0.00|    0.00|   0.00|   0.00|              0|         0|           0|           0|            0|   0.00|   0.00|    0.00|   0.00|   0.00|              0|         0|           0|           0|            0|   0.00|   0.00|    0.00|   0.00|   0.00|           1121|        20|         123|           0|            0|   6.15|   0.00|    0.00|   0.00|   1.78|[B0CBMXCYG2]|266965785438810|  Eco_4_Burner|        100|        100|\n",
      "|BESTTECHNOLOGIESS|ECO 4 Burner-BA-S...|418943154503658|402363784720169|164758522532290|                    0|               0|                 0|                 0|                  0|         0.00|         0.00|          0.00|         0.00|         0.00|                      8|                 1|                   6|                   0|                    0|           6.00|           0.00|            0.00|           0.00|          12.50|                       8|                  1|                    6|                    0|                     0|            6.00|            0.00|             0.00|            0.00|           12.50|                      10|                  2|                   10|                    0|                     0|            5.00|            0.00|             0.00|            0.00|           20.00|              8|         1|           6|           0|            0|   6.00|   0.00|    0.00|   0.00|  12.50|              5|         2|          11|           0|            0|   5.50|   0.00|    0.00|   0.00|  40.00|              0|         0|           0|           0|            0|   0.00|   0.00|    0.00|   0.00|   0.00|              0|         0|           0|           0|            0|   0.00|   0.00|    0.00|   0.00|   0.00|[B0CBMXCYG2]|266965785438810|  Eco_4_Burner|        100|        100|\n",
      "|BESTTECHNOLOGIESS|ECO 4 Burner-BA-S...|418943154503658|402363784720169|173372213527066|                    0|               0|                 0|                 0|                  0|         0.00|         0.00|          0.00|         0.00|         0.00|                      0|                 0|                   0|                   0|                    0|           0.00|           0.00|            0.00|           0.00|           0.00|                       0|                  0|                    0|                    0|                     0|            0.00|            0.00|             0.00|            0.00|            0.00|                      32|                  2|                   28|                    0|                     0|           14.00|            0.00|             0.00|            0.00|            6.25|              0|         0|           0|           0|            0|   0.00|   0.00|    0.00|   0.00|   0.00|            128|         4|          54|           0|            0|  13.50|   0.00|    0.00|   0.00|   3.13|              0|         0|           0|           0|            0|   0.00|   0.00|    0.00|   0.00|   0.00|            341|         9|          87|           0|            0|   9.67|   0.00|    0.00|   0.00|   2.64|[B0CBMXCYG2]|266965785438810|  Eco_4_Burner|        100|        100|\n",
      "|BESTTECHNOLOGIESS|ECO 4 Burner-BA-S...|418943154503658|402363784720169|177539186120186|                   23|               1|                 8|                 0|                  0|         8.00|         0.00|          0.00|         0.00|         4.35|                     79|                 2|                  16|                   0|                    0|           8.00|           0.00|            0.00|           0.00|           2.53|                     144|                  4|                   30|                    0|                     0|            7.50|            0.00|             0.00|            0.00|            2.78|                     144|                  4|                   30|                    0|                     0|            7.50|            0.00|             0.00|            0.00|            2.78|            144|         4|          30|           0|            0|   7.50|   0.00|    0.00|   0.00|   2.78|            586|         4|          20|           0|            0|   5.00|   0.00|    0.00|   0.00|   0.68|              0|         0|           0|           0|            0|   0.00|   0.00|    0.00|   0.00|   0.00|             20|         3|          15|           0|            0|   5.00|   0.00|    0.00|   0.00|  15.00|[B0CBMXCYG2]|266965785438810|  Eco_4_Burner|        100|        100|\n",
      "|BESTTECHNOLOGIESS|ECO 4 Burner-BA-S...|418943154503658|402363784720169|213931773659876|                    0|               0|                 0|                 0|                  0|         0.00|         0.00|          0.00|         0.00|         0.00|                     60|                 1|                  14|                   0|                    0|          14.00|           0.00|            0.00|           0.00|           1.67|                     212|                  6|                   80|                    0|                     0|           13.33|            0.00|             0.00|            0.00|            2.83|                     372|                 12|                  155|                    0|                     0|           12.92|            0.00|             0.00|            0.00|            3.23|            363|         9|         116|           0|            0|  12.89|   0.00|    0.00|   0.00|   2.48|             22|         5|          63|           0|            0|  12.60|   0.00|    0.00|   0.00|  22.73|              0|         0|           0|           0|            0|   0.00|   0.00|    0.00|   0.00|   0.00|             44|         4|          29|           0|            0|   7.25|   0.00|    0.00|   0.00|   9.09|[B0CBMXCYG2]|266965785438810|  Eco_4_Burner|        100|        100|\n",
      "|BESTTECHNOLOGIESS|ECO 4 Burner-BA-S...|418943154503658|402363784720169| 23247576123251|                    0|               0|                 0|                 0|                  0|         0.00|         0.00|          0.00|         0.00|         0.00|                     16|                 1|                  11|                   0|                    0|          11.00|           0.00|            0.00|           0.00|           6.25|                      16|                  1|                   11|                    0|                     0|           11.00|            0.00|             0.00|            0.00|            6.25|                     431|                 12|                  122|                    0|                     0|           10.17|            0.00|             0.00|            0.00|            2.78|             24|         3|          28|           0|            0|   9.33|   0.00|    0.00|   0.00|  12.50|            444|        12|         126|           0|            0|  10.50|   0.00|    0.00|   0.00|   2.70|              0|         0|           0|           0|            0|   0.00|   0.00|    0.00|   0.00|   0.00|             53|         2|          11|           0|            0|   5.50|   0.00|    0.00|   0.00|   3.77|[B0CBMXCYG2]|266965785438810|  Eco_4_Burner|        100|        100|\n",
      "|BESTTECHNOLOGIESS|ECO 4 Burner-BA-S...|418943154503658|402363784720169|  4089452451614|                  101|               2|                41|                 0|                  0|        20.50|         0.00|          0.00|         0.00|         1.98|                    427|                 6|                 147|                   0|                    0|          24.50|           0.00|            0.00|           0.00|           1.41|                     590|                  9|                  223|                    0|                     0|           24.78|            0.00|             0.00|            0.00|            1.53|                     994|                 13|                  324|                    0|                     0|           24.92|            0.00|             0.00|            0.00|            1.31|            657|        11|         269|           0|            0|  24.45|   0.00|    0.00|   0.00|   1.67|            831|        11|         271|           0|            0|  24.64|   0.00|    0.00|   0.00|   1.32|              0|         0|           0|           0|            0|   0.00|   0.00|    0.00|   0.00|   0.00|           2271|        22|         391|           0|            0|  17.77|   0.00|    0.00|   0.00|   0.97|[B0CBMXCYG2]|266965785438810|  Eco_4_Burner|        100|        100|\n",
      "|BESTTECHNOLOGIESS|ECO 4 Burner-BA-S...|418943154503658|402363784720169| 87913615309608|                    0|               0|                 0|                 0|                  0|         0.00|         0.00|          0.00|         0.00|         0.00|                      0|                 0|                   0|                   0|                    0|           0.00|           0.00|            0.00|           0.00|           0.00|                       7|                  1|                   12|                    0|                     0|           12.00|            0.00|             0.00|            0.00|           14.29|                     110|                  7|                   73|                    0|                     0|           10.43|            0.00|             0.00|            0.00|            6.36|             99|         5|          53|           0|            0|  10.60|   0.00|    0.00|   0.00|   5.05|             49|         9|          93|           0|            0|  10.33|   0.00|    0.00|   0.00|  18.37|              0|         0|           0|           0|            0|   0.00|   0.00|    0.00|   0.00|   0.00|             12|         2|          13|           0|            0|   6.50|   0.00|    0.00|   0.00|  16.67|[B0CBMXCYG2]|266965785438810|  Eco_4_Burner|        100|        100|\n",
      "|BESTTECHNOLOGIESS|ECO 4 Burner-BA-S...|418943154503658|402363784720169| 89141625324182|                    0|               0|                 0|                 0|                  0|         0.00|         0.00|          0.00|         0.00|         0.00|                      0|                 0|                   0|                   0|                    0|           0.00|           0.00|            0.00|           0.00|           0.00|                       0|                  0|                    0|                    0|                     0|            0.00|            0.00|             0.00|            0.00|            0.00|                       0|                  0|                    0|                    0|                     0|            0.00|            0.00|             0.00|            0.00|            0.00|              0|         0|           0|           0|            0|   0.00|   0.00|    0.00|   0.00|   0.00|              0|         0|           0|           0|            0|   0.00|   0.00|    0.00|   0.00|   0.00|              0|         0|           0|           0|            0|   0.00|   0.00|    0.00|   0.00|   0.00|            140|         4|          53|           0|            0|  13.25|   0.00|    0.00|   0.00|   2.86|[B0CBMXCYG2]|266965785438810|  Eco_4_Burner|        100|        100|\n",
      "|BESTTECHNOLOGIESS|Eco 4 Burner-B0CB...|443539590870939|378542278459701| 64588750037183|                    0|               0|                 0|                 0|                  0|         0.00|         0.00|          0.00|         0.00|         0.00|                      0|                 0|                   0|                   0|                    0|           0.00|           0.00|            0.00|           0.00|           0.00|                      24|                  3|                    7|                    0|                     0|            2.33|            0.00|             0.00|            0.00|           12.50|                    1005|                 35|                   71|                    0|                     0|            2.03|            0.00|             0.00|            0.00|            3.48|            169|        11|          23|           0|            0|   2.09|   0.00|    0.00|   0.00|   6.51|           1667|        47|          94|           0|            0|   2.00|   0.00|    0.00|   0.00|   2.82|              0|         0|           0|           0|            0|   0.00|   0.00|    0.00|   0.00|   0.00|              0|         0|           0|           0|            0|   0.00|   0.00|    0.00|   0.00|   0.00|[B0CBMXCYG2]|266965785438810|  Eco_4_Burner|        100|        100|\n",
      "|BESTTECHNOLOGIESS|Eco 4 Burner-B0CB...|490064165856686|514048858625009| 14587470243037|                    0|               0|                 0|                 0|                  0|         0.00|         0.00|          0.00|         0.00|         0.00|                      0|                 0|                   0|                   0|                    0|           0.00|           0.00|            0.00|           0.00|           0.00|                       0|                  0|                    0|                    0|                     0|            0.00|            0.00|             0.00|            0.00|            0.00|                       2|                  1|                    4|                    0|                     0|            4.00|            0.00|             0.00|            0.00|           50.00|              2|         1|           4|           0|            0|   4.00|   0.00|    0.00|   0.00|  50.00|              0|         0|           0|           0|            0|   0.00|   0.00|    0.00|   0.00|   0.00|              0|         0|           0|           0|            0|   0.00|   0.00|    0.00|   0.00|   0.00|              0|         0|           0|           0|            0|   0.00|   0.00|    0.00|   0.00|   0.00|[B0CBMXCYG2]|266965785438810|  Eco_4_Burner|        100|        100|\n",
      "|BESTTECHNOLOGIESS|Eco 4 Burner-B0CB...|490064165856686|514048858625009| 15119408450260|                    0|               0|                 0|                 0|                  0|         0.00|         0.00|          0.00|         0.00|         0.00|                      0|                 0|                   0|                   0|                    0|           0.00|           0.00|            0.00|           0.00|           0.00|                       0|                  0|                    0|                    0|                     0|            0.00|            0.00|             0.00|            0.00|            0.00|                       0|                  0|                    0|                    0|                     0|            0.00|            0.00|             0.00|            0.00|            0.00|              0|         0|           0|           0|            0|   0.00|   0.00|    0.00|   0.00|   0.00|             30|         2|          14|           0|            0|   7.00|   0.00|    0.00|   0.00|   6.67|              0|         0|           0|           0|            0|   0.00|   0.00|    0.00|   0.00|   0.00|              0|         0|           0|           0|            0|   0.00|   0.00|    0.00|   0.00|   0.00|[B0CBMXCYG2]|266965785438810|  Eco_4_Burner|        100|        100|\n",
      "+-----------------+--------------------+---------------+---------------+---------------+---------------------+----------------+------------------+------------------+-------------------+-------------+-------------+--------------+-------------+-------------+-----------------------+------------------+--------------------+--------------------+---------------------+---------------+---------------+----------------+---------------+---------------+------------------------+-------------------+---------------------+---------------------+----------------------+----------------+----------------+-----------------+----------------+----------------+------------------------+-------------------+---------------------+---------------------+----------------------+----------------+----------------+-----------------+----------------+----------------+---------------+----------+------------+------------+-------------+-------+-------+--------+-------+-------+---------------+----------+------------+------------+-------------+-------+-------+--------+-------+-------+---------------+----------+------------+------------+-------------+-------+-------+--------+-------+-------+---------------+----------+------------+------------+-------------+-------+-------+--------+-------+-------+------------+---------------+--------------+-----------+-----------+\n",
      "only showing top 20 rows\n",
      "\n"
     ]
    },
    {
     "name": "stderr",
     "output_type": "stream",
     "text": [
      "                                                                                \r"
     ]
    }
   ],
   "source": [
    "mapped_acos_ratio.show()"
   ]
  },
  {
   "cell_type": "code",
   "execution_count": 83,
   "id": "e380e8dd",
   "metadata": {},
   "outputs": [],
   "source": [
    "ads_automation_sheet='14aA8eKlsJqCd8mrNZcZOcnwW5pGICTZKs7DVE-IjO8Q'\n",
    "df=read_sheet(ads_automation_sheet,'Rules',2)\n",
    "df.to_csv(\"Rules.csv\",index=False)\n",
    "rules=spark.read.csv(\n",
    "    \"Rules.csv\",\n",
    "    header=True,      # use first row as column names\n",
    "    inferSchema=True  # infer data types automatically\n",
    ")\n"
   ]
  },
  {
   "cell_type": "code",
   "execution_count": 84,
   "id": "7c9d75be",
   "metadata": {},
   "outputs": [
    {
     "name": "stdout",
     "output_type": "stream",
     "text": [
      "+------------+-----------+---------+-------------------+------------+----------+----------+\n",
      "|account_name|ratio_start|ratio_end|        column_name|column_start|column_end|bid_change|\n",
      "+------------+-----------+---------+-------------------+------------+----------+----------+\n",
      "|     awenest|        0.0|      0.5|               NULL|        NULL|      NULL|        10|\n",
      "|     awenest|        0.5|     0.75|               NULL|        NULL|      NULL|         5|\n",
      "|     awenest|       0.75|     NULL|               NULL|        NULL|      NULL|         2|\n",
      "|     awenest|        0.0|      0.0|clicks_last_14_days|           5|      NULL|       -50|\n",
      "|     awenest|        0.0|      0.0|clicks_last_14_days|           0|         0|        10|\n",
      "|     awenest|        0.0|      0.0|clicks_last_14_days|           1|         5| no change|\n",
      "|     awenest|        1.0|     NULL|               NULL|        NULL|      NULL| cpc/ratio|\n",
      "|   BeyondNxt|        0.0|      0.5|               NULL|        NULL|      NULL|        50|\n",
      "|   BeyondNxt|        0.5|     0.75|               NULL|        NULL|      NULL|        25|\n",
      "|   BeyondNxt|       0.75|     NULL|               NULL|        NULL|      NULL|        10|\n",
      "|   BeyondNxt|        0.0|      0.0|clicks_last_14_days|         200|      NULL|       -50|\n",
      "|   BeyondNxt|        0.0|      0.0|clicks_last_14_days|           0|      NULL|        50|\n",
      "|   BeyondNxt|        0.0|      0.0|clicks_last_14_days|           1|       200| no change|\n",
      "|   BeyondNxt|        1.0|     NULL|               NULL|        NULL|      NULL| cpc/ratio|\n",
      "+------------+-----------+---------+-------------------+------------+----------+----------+\n",
      "\n"
     ]
    }
   ],
   "source": [
    "rules.show()"
   ]
  },
  {
   "cell_type": "code",
   "execution_count": 85,
   "id": "5bc581b9",
   "metadata": {},
   "outputs": [],
   "source": [
    "rules_list = rules.collect()\n",
    "\n",
    "mapped_acos_ratio=mapped_acos_ratio.withColumn(\n",
    "    \"ratio\",\n",
    "    F.col(\"ACOS_last_14_days\") / F.col(\"Target ACOS\")\n",
    ")\n",
    "df = mapped_acos_ratio"
   ]
  },
  {
   "cell_type": "code",
   "execution_count": 86,
   "id": "f95e830b",
   "metadata": {},
   "outputs": [],
   "source": [
    "account_rule=rules.groupBy(\"account_name\")"
   ]
  },
  {
   "cell_type": "code",
   "execution_count": 87,
   "id": "bc28adef",
   "metadata": {},
   "outputs": [],
   "source": [
    "accounts = [r['account_name'] for r in rules.select(\"account_name\").distinct().collect()]\n",
    "\n",
    "df = mapped_acos_ratio"
   ]
  },
  {
   "cell_type": "code",
   "execution_count": 88,
   "id": "9f994ee2",
   "metadata": {},
   "outputs": [
    {
     "data": {
      "text/plain": [
       "['BeyondNxt', 'awenest']"
      ]
     },
     "execution_count": 88,
     "metadata": {},
     "output_type": "execute_result"
    }
   ],
   "source": [
    "accounts"
   ]
  },
  {
   "cell_type": "code",
   "execution_count": 89,
   "id": "9d3432e9",
   "metadata": {},
   "outputs": [
    {
     "name": "stderr",
     "output_type": "stream",
     "text": [
      "25/09/23 10:31:28 WARN Column: Constructing trivially true equals predicate, 'no change = no change'. Perhaps you need to use aliases.\n",
      "25/09/23 10:31:28 WARN Column: Constructing trivially true equals predicate, 'cpc/ratio = cpc/ratio'. Perhaps you need to use aliases.\n",
      "25/09/23 10:31:29 WARN Column: Constructing trivially true equals predicate, 'no change = no change'. Perhaps you need to use aliases.\n",
      "25/09/23 10:31:29 WARN Column: Constructing trivially true equals predicate, 'cpc/ratio = cpc/ratio'. Perhaps you need to use aliases.\n"
     ]
    }
   ],
   "source": [
    "\n",
    "\n",
    "for acc in accounts:\n",
    "    acc_rules = rules.filter(F.col(\"account_name\") == acc).collect()\n",
    "    for r in rules_list:\n",
    "        ratio_start, ratio_end = r['ratio_start'], r['ratio_end']\n",
    "        column_name, col_start, col_end = r['column_name'], r['column_start'], r['column_end']\n",
    "        bid_change = r['bid_change']\n",
    "\n",
    "        cond = F.lit(True)\n",
    "\n",
    "        if ratio_start is not None:\n",
    "            cond = cond & (F.col(\"ratio\") >= F.lit(ratio_start))\n",
    "        if ratio_end is not None:\n",
    "            cond = cond & (F.col(\"ratio\") < F.lit(ratio_end))\n",
    "\n",
    "        if column_name:\n",
    "            if col_start is not None:\n",
    "                cond = cond & (F.col(column_name) >= F.lit(col_start))\n",
    "            if col_end is not None:\n",
    "                cond = cond & (F.col(column_name) <= F.lit(col_end))\n",
    "\n",
    "        df = df.withColumn(\n",
    "            \"bid\",\n",
    "            F.when(cond,\n",
    "                F.when(F.lit(bid_change) == \"no change\", F.col(\"CPC_last_14_days\"))\n",
    "                    .when(F.lit(bid_change) == \"cpc/ratio\", F.col(\"CPC_last_14_days\") / F.col(\"ratio\"))\n",
    "                    .otherwise(F.col(\"CPC_last_14_days\") * (1 + F.lit(bid_change).cast(\"double\") / 100)))\n",
    "            .otherwise(F.col(\"CPC_last_14_days\"))\n",
    "        )\n",
    "    break"
   ]
  },
  {
   "cell_type": "code",
   "execution_count": 91,
   "id": "ec0a9678",
   "metadata": {},
   "outputs": [
    {
     "data": {
      "text/plain": [
       "['account_name',\n",
       " 'campaign_name',\n",
       " 'campaignId',\n",
       " 'ad_group_id',\n",
       " 'keyword_id',\n",
       " 'impressions_yesterday',\n",
       " 'clicks_yesterday',\n",
       " 'ad_spend_yesterday',\n",
       " 'ads_sale_yesterday',\n",
       " 'ads_units_yesterday',\n",
       " 'CPC_yesterday',\n",
       " 'CPA_yesterday',\n",
       " 'ACOS_yesterday',\n",
       " 'CVR_yesterday',\n",
       " 'CTR_yesterday',\n",
       " 'impressions_last_7_days',\n",
       " 'clicks_last_7_days',\n",
       " 'ad_spend_last_7_days',\n",
       " 'ads_sale_last_7_days',\n",
       " 'ads_units_last_7_days',\n",
       " 'CPC_last_7_days',\n",
       " 'CPA_last_7_days',\n",
       " 'ACOS_last_7_days',\n",
       " 'CVR_last_7_days',\n",
       " 'CTR_last_7_days',\n",
       " 'impressions_last_14_days',\n",
       " 'clicks_last_14_days',\n",
       " 'ad_spend_last_14_days',\n",
       " 'ads_sale_last_14_days',\n",
       " 'ads_units_last_14_days',\n",
       " 'CPC_last_14_days',\n",
       " 'CPA_last_14_days',\n",
       " 'ACOS_last_14_days',\n",
       " 'CVR_last_14_days',\n",
       " 'CTR_last_14_days',\n",
       " 'impressions_last_30_days',\n",
       " 'clicks_last_30_days',\n",
       " 'ad_spend_last_30_days',\n",
       " 'ads_sale_last_30_days',\n",
       " 'ads_units_last_30_days',\n",
       " 'CPC_last_30_days',\n",
       " 'CPA_last_30_days',\n",
       " 'ACOS_last_30_days',\n",
       " 'CVR_last_30_days',\n",
       " 'CTR_last_30_days',\n",
       " 'impressions_Sep',\n",
       " 'clicks_Sep',\n",
       " 'ad_spend_Sep',\n",
       " 'ads_sale_Sep',\n",
       " 'ads_units_Sep',\n",
       " 'CPC_Sep',\n",
       " 'CPA_Sep',\n",
       " 'ACOS_Sep',\n",
       " 'CVR_Sep',\n",
       " 'CTR_Sep',\n",
       " 'impressions_Aug',\n",
       " 'clicks_Aug',\n",
       " 'ad_spend_Aug',\n",
       " 'ads_sale_Aug',\n",
       " 'ads_units_Aug',\n",
       " 'CPC_Aug',\n",
       " 'CPA_Aug',\n",
       " 'ACOS_Aug',\n",
       " 'CVR_Aug',\n",
       " 'CTR_Aug',\n",
       " 'impressions_Jul',\n",
       " 'clicks_Jul',\n",
       " 'ad_spend_Jul',\n",
       " 'ads_sale_Jul',\n",
       " 'ads_units_Jul',\n",
       " 'CPC_Jul',\n",
       " 'CPA_Jul',\n",
       " 'ACOS_Jul',\n",
       " 'CVR_Jul',\n",
       " 'CTR_Jul',\n",
       " 'impressions_Jun',\n",
       " 'clicks_Jun',\n",
       " 'ad_spend_Jun',\n",
       " 'ads_sale_Jun',\n",
       " 'ads_units_Jun',\n",
       " 'CPC_Jun',\n",
       " 'CPA_Jun',\n",
       " 'ACOS_Jun',\n",
       " 'CVR_Jun',\n",
       " 'CTR_Jun',\n",
       " 'asin_list',\n",
       " 'portfolioId',\n",
       " 'portfolio_name',\n",
       " 'Target ACOS',\n",
       " 'target_acos',\n",
       " 'ratio',\n",
       " 'bid']"
      ]
     },
     "execution_count": 91,
     "metadata": {},
     "output_type": "execute_result"
    }
   ],
   "source": [
    "df.columns"
   ]
  },
  {
   "cell_type": "code",
   "execution_count": null,
   "id": "9ec61700",
   "metadata": {},
   "outputs": [],
   "source": [
    "\n",
    "\n"
   ]
  },
  {
   "cell_type": "code",
   "execution_count": null,
   "id": "a7974e79",
   "metadata": {},
   "outputs": [],
   "source": []
  },
  {
   "cell_type": "code",
   "execution_count": null,
   "id": "c481e86a",
   "metadata": {},
   "outputs": [],
   "source": []
  },
  {
   "cell_type": "code",
   "execution_count": null,
   "id": "482b2ee2",
   "metadata": {},
   "outputs": [
    {
     "name": "stderr",
     "output_type": "stream",
     "text": [
      "25/09/23 06:44:26 WARN SparkStringUtils: Truncated the string representation of a plan since it was too large. This behavior can be adjusted by setting 'spark.sql.debug.maxToStringFields'.\n",
      "[Stage 127:>                                                        (0 + 4) / 4]\r"
     ]
    },
    {
     "name": "stdout",
     "output_type": "stream",
     "text": [
      "+--------------------+---------------+---------------+---------------+-----------------+---------------------+----------------+------------------+------------------+-------------------+-------------+-------------+--------------+-------------+-------------+-----------------------+------------------+--------------------+--------------------+---------------------+---------------+---------------+----------------+---------------+---------------+------------------------+-------------------+---------------------+---------------------+----------------------+----------------+----------------+-----------------+----------------+----------------+------------------------+-------------------+---------------------+---------------------+----------------------+----------------+----------------+-----------------+----------------+----------------+---------------+----------+------------+------------+-------------+-------+-------+--------+-------+-------+---------------+----------+------------+------------+-------------+-------+-------+--------+-------+-------+---------------+----------+------------+------------+-------------+-------+-------+--------+-------+-------+---------------+----------+------------+------------+-------------+-------+-------+--------+-------+-------+------------+---------------+--------------+-----------+-----+\n",
      "|       campaign_name|     campaignId|    ad_group_id|     keyword_id|     account_name|impressions_yesterday|clicks_yesterday|ad_spend_yesterday|ads_sale_yesterday|ads_units_yesterday|CPC_yesterday|CPA_yesterday|ACOS_yesterday|CVR_yesterday|CTR_yesterday|impressions_last_7_days|clicks_last_7_days|ad_spend_last_7_days|ads_sale_last_7_days|ads_units_last_7_days|CPC_last_7_days|CPA_last_7_days|ACOS_last_7_days|CVR_last_7_days|CTR_last_7_days|impressions_last_14_days|clicks_last_14_days|ad_spend_last_14_days|ads_sale_last_14_days|ads_units_last_14_days|CPC_last_14_days|CPA_last_14_days|ACOS_last_14_days|CVR_last_14_days|CTR_last_14_days|impressions_last_30_days|clicks_last_30_days|ad_spend_last_30_days|ads_sale_last_30_days|ads_units_last_30_days|CPC_last_30_days|CPA_last_30_days|ACOS_last_30_days|CVR_last_30_days|CTR_last_30_days|impressions_Sep|clicks_Sep|ad_spend_Sep|ads_sale_Sep|ads_units_Sep|CPC_Sep|CPA_Sep|ACOS_Sep|CVR_Sep|CTR_Sep|impressions_Aug|clicks_Aug|ad_spend_Aug|ads_sale_Aug|ads_units_Aug|CPC_Aug|CPA_Aug|ACOS_Aug|CVR_Aug|CTR_Aug|impressions_Jul|clicks_Jul|ad_spend_Jul|ads_sale_Jul|ads_units_Jul|CPC_Jul|CPA_Jul|ACOS_Jul|CVR_Jul|CTR_Jul|impressions_Jun|clicks_Jun|ad_spend_Jun|ads_sale_Jun|ads_units_Jun|CPC_Jun|CPA_Jun|ACOS_Jun|CVR_Jun|CTR_Jun|   asin_list|    portfolioId|portfolio_name|Target ACOS|ratio|\n",
      "+--------------------+---------------+---------------+---------------+-----------------+---------------------+----------------+------------------+------------------+-------------------+-------------+-------------+--------------+-------------+-------------+-----------------------+------------------+--------------------+--------------------+---------------------+---------------+---------------+----------------+---------------+---------------+------------------------+-------------------+---------------------+---------------------+----------------------+----------------+----------------+-----------------+----------------+----------------+------------------------+-------------------+---------------------+---------------------+----------------------+----------------+----------------+-----------------+----------------+----------------+---------------+----------+------------+------------+-------------+-------+-------+--------+-------+-------+---------------+----------+------------+------------+-------------+-------+-------+--------+-------+-------+---------------+----------+------------+------------+-------------+-------+-------+--------+-------+-------+---------------+----------+------------+------------+-------------+-------+-------+--------+-------+-------+------------+---------------+--------------+-----------+-----+\n",
      "|Unadvertised ASIN...|196077384632867|206080746161630|221160677130448|BESTTECHNOLOGIESS|                    0|               0|                 0|                 0|                  0|         0.00|         0.00|          0.00|         0.00|         0.00|                      0|                 0|                   0|                   0|                    0|           0.00|           0.00|            0.00|           0.00|           0.00|                       0|                  0|                    0|                    0|                     0|            0.00|            0.00|             0.00|            0.00|            0.00|                     196|                  3|                   14|                    0|                     0|            4.67|            0.00|             0.00|            0.00|            1.53|              0|         0|           0|           0|            0|   0.00|   0.00|    0.00|   0.00|   0.00|            259|        10|          41|           0|            0|   4.10|   0.00|    0.00|   0.00|   3.86|              0|         0|           0|           0|            0|   0.00|   0.00|    0.00|   0.00|   0.00|              0|         0|           0|           0|            0|   0.00|   0.00|    0.00|   0.00|   0.00|[B0C46S4LS4]|           NULL|          NULL|       NULL| NULL|\n",
      "|Eco 1 Burner-B0C4...|369648973816171|360327666761265|   793633598723|BESTTECHNOLOGIESS|                    0|               0|                 0|                 0|                  0|         0.00|         0.00|          0.00|         0.00|         0.00|                      0|                 0|                   0|                   0|                    0|           0.00|           0.00|            0.00|           0.00|           0.00|                       0|                  0|                    0|                    0|                     0|            0.00|            0.00|             0.00|            0.00|            0.00|                     441|                 11|                   86|                    0|                     0|            7.82|            0.00|             0.00|            0.00|            2.49|             33|         3|          26|           0|            0|   8.67|   0.00|    0.00|   0.00|   9.09|           1269|        33|         217|           0|            0|   6.58|   0.00|    0.00|   0.00|   2.60|              0|         0|           0|           0|            0|   0.00|   0.00|    0.00|   0.00|   0.00|           3021|        76|         381|           0|            0|   5.01|   0.00|    0.00|   0.00|   2.52|[B0C4HX6V2Z]| 14233056753425|  Eco_1_Burner|       NULL| NULL|\n",
      "|ECO 4 Burner-BA-S...|418943154503658|402363784720169|135115238443055|BESTTECHNOLOGIESS|                    0|               0|                 0|                 0|                  0|         0.00|         0.00|          0.00|         0.00|         0.00|                      0|                 0|                   0|                   0|                    0|           0.00|           0.00|            0.00|           0.00|           0.00|                       0|                  0|                    0|                    0|                     0|            0.00|            0.00|             0.00|            0.00|            0.00|                       3|                  1|                    5|                    0|                     0|            5.00|            0.00|             0.00|            0.00|           33.33|              0|         0|           0|           0|            0|   0.00|   0.00|    0.00|   0.00|   0.00|              3|         1|           5|           0|            0|   5.00|   0.00|    0.00|   0.00|  33.33|              0|         0|           0|           0|            0|   0.00|   0.00|    0.00|   0.00|   0.00|              0|         0|           0|           0|            0|   0.00|   0.00|    0.00|   0.00|   0.00|[B0CBMXCYG2]|266965785438810|  Eco_4_Burner|       NULL| NULL|\n",
      "|ECO 4 Burner-BA-S...|418943154503658|402363784720169|141819146603467|BESTTECHNOLOGIESS|                    0|               0|                 0|                 0|                  0|         0.00|         0.00|          0.00|         0.00|         0.00|                     94|                 2|                  28|                   0|                    0|          14.00|           0.00|            0.00|           0.00|           2.13|                     128|                  3|                   41|                    0|                     0|           13.67|            0.00|             0.00|            0.00|            2.34|                     295|                  9|                  125|                    0|                     0|           13.89|            0.00|             0.00|            0.00|            3.05|            168|         5|          70|           0|            0|  14.00|   0.00|    0.00|   0.00|   2.98|            131|         5|          71|           0|            0|  14.20|   0.00|    0.00|   0.00|   3.82|              0|         0|           0|           0|            0|   0.00|   0.00|    0.00|   0.00|   0.00|            174|         6|          52|           0|            0|   8.67|   0.00|    0.00|   0.00|   3.45|[B0CBMXCYG2]|266965785438810|  Eco_4_Burner|       NULL| NULL|\n",
      "|ECO 4 Burner-BA-S...|418943154503658|402363784720169|144770298857248|BESTTECHNOLOGIESS|                    0|               0|                 0|                 0|                  0|         0.00|         0.00|          0.00|         0.00|         0.00|                    134|                 4|                  47|                   0|                    0|          11.75|           0.00|            0.00|           0.00|           2.99|                     136|                  5|                   60|                    0|                     0|           12.00|            0.00|             0.00|            0.00|            3.68|                     173|                  8|                  100|                    0|                     0|           12.50|            0.00|             0.00|            0.00|            4.62|            173|         8|         100|           0|            0|  12.50|   0.00|    0.00|   0.00|   4.62|            318|         7|          94|           0|            0|  13.43|   0.00|    0.00|   0.00|   2.20|              0|         0|           0|           0|            0|   0.00|   0.00|    0.00|   0.00|   0.00|            178|         5|          47|           0|            0|   9.40|   0.00|    0.00|   0.00|   2.81|[B0CBMXCYG2]|266965785438810|  Eco_4_Burner|       NULL| NULL|\n",
      "|ECO 4 Burner-BA-S...|418943154503658|402363784720169|146548040982646|BESTTECHNOLOGIESS|                    0|               0|                 0|                 0|                  0|         0.00|         0.00|          0.00|         0.00|         0.00|                      0|                 0|                   0|                   0|                    0|           0.00|           0.00|            0.00|           0.00|           0.00|                       0|                  0|                    0|                    0|                     0|            0.00|            0.00|             0.00|            0.00|            0.00|                       0|                  0|                    0|                    0|                     0|            0.00|            0.00|             0.00|            0.00|            0.00|              0|         0|           0|           0|            0|   0.00|   0.00|    0.00|   0.00|   0.00|            115|         2|          21|           0|            0|  10.50|   0.00|    0.00|   0.00|   1.74|              0|         0|           0|           0|            0|   0.00|   0.00|    0.00|   0.00|   0.00|            337|         7|          57|           0|            0|   8.14|   0.00|    0.00|   0.00|   2.08|[B0CBMXCYG2]|266965785438810|  Eco_4_Burner|       NULL| NULL|\n",
      "|ECO 4 Burner-BA-S...|418943154503658|402363784720169| 14876215013090|BESTTECHNOLOGIESS|                    0|               0|                 0|                 0|                  0|         0.00|         0.00|          0.00|         0.00|         0.00|                     18|                 1|                  14|                   0|                    0|          14.00|           0.00|            0.00|           0.00|           5.56|                      21|                  2|                   24|                    0|                     0|           12.00|            0.00|             0.00|            0.00|            9.52|                     322|                 11|                  182|                    0|                     0|           16.55|            0.00|             0.00|            0.00|            3.42|             65|         5|          78|           0|            0|  15.60|   0.00|    0.00|   0.00|   7.69|            306|        11|         180|           0|            0|  16.36|   0.00|    0.00|   0.00|   3.59|              0|         0|           0|           0|            0|   0.00|   0.00|    0.00|   0.00|   0.00|            108|         5|          53|           0|            0|  10.60|   0.00|    0.00|   0.00|   4.63|[B0CBMXCYG2]|266965785438810|  Eco_4_Burner|       NULL| NULL|\n",
      "|ECO 4 Burner-BA-S...|418943154503658|402363784720169|159329698100907|BESTTECHNOLOGIESS|                    0|               0|                 0|                 0|                  0|         0.00|         0.00|          0.00|         0.00|         0.00|                      0|                 0|                   0|                   0|                    0|           0.00|           0.00|            0.00|           0.00|           0.00|                       0|                  0|                    0|                    0|                     0|            0.00|            0.00|             0.00|            0.00|            0.00|                       0|                  0|                    0|                    0|                     0|            0.00|            0.00|             0.00|            0.00|            0.00|              0|         0|           0|           0|            0|   0.00|   0.00|    0.00|   0.00|   0.00|             38|         2|          15|           0|            0|   7.50|   0.00|    0.00|   0.00|   5.26|              0|         0|           0|           0|            0|   0.00|   0.00|    0.00|   0.00|   0.00|             72|         6|          32|           0|            0|   5.33|   0.00|    0.00|   0.00|   8.33|[B0CBMXCYG2]|266965785438810|  Eco_4_Burner|       NULL| NULL|\n",
      "|ECO 4 Burner-BA-S...|418943154503658|402363784720169|164494467204938|BESTTECHNOLOGIESS|                    0|               0|                 0|                 0|                  0|         0.00|         0.00|          0.00|         0.00|         0.00|                      0|                 0|                   0|                   0|                    0|           0.00|           0.00|            0.00|           0.00|           0.00|                       0|                  0|                    0|                    0|                     0|            0.00|            0.00|             0.00|            0.00|            0.00|                       0|                  0|                    0|                    0|                     0|            0.00|            0.00|             0.00|            0.00|            0.00|              0|         0|           0|           0|            0|   0.00|   0.00|    0.00|   0.00|   0.00|              0|         0|           0|           0|            0|   0.00|   0.00|    0.00|   0.00|   0.00|              0|         0|           0|           0|            0|   0.00|   0.00|    0.00|   0.00|   0.00|           1121|        20|         123|           0|            0|   6.15|   0.00|    0.00|   0.00|   1.78|[B0CBMXCYG2]|266965785438810|  Eco_4_Burner|       NULL| NULL|\n",
      "|ECO 4 Burner-BA-S...|418943154503658|402363784720169|164758522532290|BESTTECHNOLOGIESS|                    0|               0|                 0|                 0|                  0|         0.00|         0.00|          0.00|         0.00|         0.00|                      8|                 1|                   6|                   0|                    0|           6.00|           0.00|            0.00|           0.00|          12.50|                       8|                  1|                    6|                    0|                     0|            6.00|            0.00|             0.00|            0.00|           12.50|                      10|                  2|                   10|                    0|                     0|            5.00|            0.00|             0.00|            0.00|           20.00|              8|         1|           6|           0|            0|   6.00|   0.00|    0.00|   0.00|  12.50|              5|         2|          11|           0|            0|   5.50|   0.00|    0.00|   0.00|  40.00|              0|         0|           0|           0|            0|   0.00|   0.00|    0.00|   0.00|   0.00|              0|         0|           0|           0|            0|   0.00|   0.00|    0.00|   0.00|   0.00|[B0CBMXCYG2]|266965785438810|  Eco_4_Burner|       NULL| NULL|\n",
      "|ECO 4 Burner-BA-S...|418943154503658|402363784720169|173372213527066|BESTTECHNOLOGIESS|                    0|               0|                 0|                 0|                  0|         0.00|         0.00|          0.00|         0.00|         0.00|                      0|                 0|                   0|                   0|                    0|           0.00|           0.00|            0.00|           0.00|           0.00|                       0|                  0|                    0|                    0|                     0|            0.00|            0.00|             0.00|            0.00|            0.00|                      32|                  2|                   28|                    0|                     0|           14.00|            0.00|             0.00|            0.00|            6.25|              0|         0|           0|           0|            0|   0.00|   0.00|    0.00|   0.00|   0.00|            128|         4|          54|           0|            0|  13.50|   0.00|    0.00|   0.00|   3.13|              0|         0|           0|           0|            0|   0.00|   0.00|    0.00|   0.00|   0.00|            341|         9|          87|           0|            0|   9.67|   0.00|    0.00|   0.00|   2.64|[B0CBMXCYG2]|266965785438810|  Eco_4_Burner|       NULL| NULL|\n",
      "|ECO 4 Burner-BA-S...|418943154503658|402363784720169|177539186120186|BESTTECHNOLOGIESS|                   23|               1|                 8|                 0|                  0|         8.00|         0.00|          0.00|         0.00|         4.35|                     79|                 2|                  16|                   0|                    0|           8.00|           0.00|            0.00|           0.00|           2.53|                     144|                  4|                   30|                    0|                     0|            7.50|            0.00|             0.00|            0.00|            2.78|                     144|                  4|                   30|                    0|                     0|            7.50|            0.00|             0.00|            0.00|            2.78|            144|         4|          30|           0|            0|   7.50|   0.00|    0.00|   0.00|   2.78|            586|         4|          20|           0|            0|   5.00|   0.00|    0.00|   0.00|   0.68|              0|         0|           0|           0|            0|   0.00|   0.00|    0.00|   0.00|   0.00|             20|         3|          15|           0|            0|   5.00|   0.00|    0.00|   0.00|  15.00|[B0CBMXCYG2]|266965785438810|  Eco_4_Burner|       NULL| NULL|\n",
      "|ECO 4 Burner-BA-S...|418943154503658|402363784720169|213931773659876|BESTTECHNOLOGIESS|                    0|               0|                 0|                 0|                  0|         0.00|         0.00|          0.00|         0.00|         0.00|                     60|                 1|                  14|                   0|                    0|          14.00|           0.00|            0.00|           0.00|           1.67|                     212|                  6|                   80|                    0|                     0|           13.33|            0.00|             0.00|            0.00|            2.83|                     372|                 12|                  155|                    0|                     0|           12.92|            0.00|             0.00|            0.00|            3.23|            363|         9|         116|           0|            0|  12.89|   0.00|    0.00|   0.00|   2.48|             22|         5|          63|           0|            0|  12.60|   0.00|    0.00|   0.00|  22.73|              0|         0|           0|           0|            0|   0.00|   0.00|    0.00|   0.00|   0.00|             44|         4|          29|           0|            0|   7.25|   0.00|    0.00|   0.00|   9.09|[B0CBMXCYG2]|266965785438810|  Eco_4_Burner|       NULL| NULL|\n",
      "|ECO 4 Burner-BA-S...|418943154503658|402363784720169| 23247576123251|BESTTECHNOLOGIESS|                    0|               0|                 0|                 0|                  0|         0.00|         0.00|          0.00|         0.00|         0.00|                     16|                 1|                  11|                   0|                    0|          11.00|           0.00|            0.00|           0.00|           6.25|                      16|                  1|                   11|                    0|                     0|           11.00|            0.00|             0.00|            0.00|            6.25|                     431|                 12|                  122|                    0|                     0|           10.17|            0.00|             0.00|            0.00|            2.78|             24|         3|          28|           0|            0|   9.33|   0.00|    0.00|   0.00|  12.50|            444|        12|         126|           0|            0|  10.50|   0.00|    0.00|   0.00|   2.70|              0|         0|           0|           0|            0|   0.00|   0.00|    0.00|   0.00|   0.00|             53|         2|          11|           0|            0|   5.50|   0.00|    0.00|   0.00|   3.77|[B0CBMXCYG2]|266965785438810|  Eco_4_Burner|       NULL| NULL|\n",
      "|ECO 4 Burner-BA-S...|418943154503658|402363784720169|  4089452451614|BESTTECHNOLOGIESS|                  101|               2|                41|                 0|                  0|        20.50|         0.00|          0.00|         0.00|         1.98|                    427|                 6|                 147|                   0|                    0|          24.50|           0.00|            0.00|           0.00|           1.41|                     590|                  9|                  223|                    0|                     0|           24.78|            0.00|             0.00|            0.00|            1.53|                     994|                 13|                  324|                    0|                     0|           24.92|            0.00|             0.00|            0.00|            1.31|            657|        11|         269|           0|            0|  24.45|   0.00|    0.00|   0.00|   1.67|            831|        11|         271|           0|            0|  24.64|   0.00|    0.00|   0.00|   1.32|              0|         0|           0|           0|            0|   0.00|   0.00|    0.00|   0.00|   0.00|           2271|        22|         391|           0|            0|  17.77|   0.00|    0.00|   0.00|   0.97|[B0CBMXCYG2]|266965785438810|  Eco_4_Burner|       NULL| NULL|\n",
      "|ECO 4 Burner-BA-S...|418943154503658|402363784720169| 87913615309608|BESTTECHNOLOGIESS|                    0|               0|                 0|                 0|                  0|         0.00|         0.00|          0.00|         0.00|         0.00|                      0|                 0|                   0|                   0|                    0|           0.00|           0.00|            0.00|           0.00|           0.00|                       7|                  1|                   12|                    0|                     0|           12.00|            0.00|             0.00|            0.00|           14.29|                     110|                  7|                   73|                    0|                     0|           10.43|            0.00|             0.00|            0.00|            6.36|             99|         5|          53|           0|            0|  10.60|   0.00|    0.00|   0.00|   5.05|             49|         9|          93|           0|            0|  10.33|   0.00|    0.00|   0.00|  18.37|              0|         0|           0|           0|            0|   0.00|   0.00|    0.00|   0.00|   0.00|             12|         2|          13|           0|            0|   6.50|   0.00|    0.00|   0.00|  16.67|[B0CBMXCYG2]|266965785438810|  Eco_4_Burner|       NULL| NULL|\n",
      "|ECO 4 Burner-BA-S...|418943154503658|402363784720169| 89141625324182|BESTTECHNOLOGIESS|                    0|               0|                 0|                 0|                  0|         0.00|         0.00|          0.00|         0.00|         0.00|                      0|                 0|                   0|                   0|                    0|           0.00|           0.00|            0.00|           0.00|           0.00|                       0|                  0|                    0|                    0|                     0|            0.00|            0.00|             0.00|            0.00|            0.00|                       0|                  0|                    0|                    0|                     0|            0.00|            0.00|             0.00|            0.00|            0.00|              0|         0|           0|           0|            0|   0.00|   0.00|    0.00|   0.00|   0.00|              0|         0|           0|           0|            0|   0.00|   0.00|    0.00|   0.00|   0.00|              0|         0|           0|           0|            0|   0.00|   0.00|    0.00|   0.00|   0.00|            140|         4|          53|           0|            0|  13.25|   0.00|    0.00|   0.00|   2.86|[B0CBMXCYG2]|266965785438810|  Eco_4_Burner|       NULL| NULL|\n",
      "|Eco 4 Burner-B0CB...|443539590870939|378542278459701| 64588750037183|BESTTECHNOLOGIESS|                    0|               0|                 0|                 0|                  0|         0.00|         0.00|          0.00|         0.00|         0.00|                      0|                 0|                   0|                   0|                    0|           0.00|           0.00|            0.00|           0.00|           0.00|                      24|                  3|                    7|                    0|                     0|            2.33|            0.00|             0.00|            0.00|           12.50|                    1005|                 35|                   71|                    0|                     0|            2.03|            0.00|             0.00|            0.00|            3.48|            169|        11|          23|           0|            0|   2.09|   0.00|    0.00|   0.00|   6.51|           1667|        47|          94|           0|            0|   2.00|   0.00|    0.00|   0.00|   2.82|              0|         0|           0|           0|            0|   0.00|   0.00|    0.00|   0.00|   0.00|              0|         0|           0|           0|            0|   0.00|   0.00|    0.00|   0.00|   0.00|[B0CBMXCYG2]|266965785438810|  Eco_4_Burner|       NULL| NULL|\n",
      "|Eco 4 Burner-B0CB...|490064165856686|514048858625009| 14587470243037|BESTTECHNOLOGIESS|                    0|               0|                 0|                 0|                  0|         0.00|         0.00|          0.00|         0.00|         0.00|                      0|                 0|                   0|                   0|                    0|           0.00|           0.00|            0.00|           0.00|           0.00|                       0|                  0|                    0|                    0|                     0|            0.00|            0.00|             0.00|            0.00|            0.00|                       2|                  1|                    4|                    0|                     0|            4.00|            0.00|             0.00|            0.00|           50.00|              2|         1|           4|           0|            0|   4.00|   0.00|    0.00|   0.00|  50.00|              0|         0|           0|           0|            0|   0.00|   0.00|    0.00|   0.00|   0.00|              0|         0|           0|           0|            0|   0.00|   0.00|    0.00|   0.00|   0.00|              0|         0|           0|           0|            0|   0.00|   0.00|    0.00|   0.00|   0.00|[B0CBMXCYG2]|266965785438810|  Eco_4_Burner|       NULL| NULL|\n",
      "|Eco 4 Burner-B0CB...|490064165856686|514048858625009| 15119408450260|BESTTECHNOLOGIESS|                    0|               0|                 0|                 0|                  0|         0.00|         0.00|          0.00|         0.00|         0.00|                      0|                 0|                   0|                   0|                    0|           0.00|           0.00|            0.00|           0.00|           0.00|                       0|                  0|                    0|                    0|                     0|            0.00|            0.00|             0.00|            0.00|            0.00|                       0|                  0|                    0|                    0|                     0|            0.00|            0.00|             0.00|            0.00|            0.00|              0|         0|           0|           0|            0|   0.00|   0.00|    0.00|   0.00|   0.00|             30|         2|          14|           0|            0|   7.00|   0.00|    0.00|   0.00|   6.67|              0|         0|           0|           0|            0|   0.00|   0.00|    0.00|   0.00|   0.00|              0|         0|           0|           0|            0|   0.00|   0.00|    0.00|   0.00|   0.00|[B0CBMXCYG2]|266965785438810|  Eco_4_Burner|       NULL| NULL|\n",
      "+--------------------+---------------+---------------+---------------+-----------------+---------------------+----------------+------------------+------------------+-------------------+-------------+-------------+--------------+-------------+-------------+-----------------------+------------------+--------------------+--------------------+---------------------+---------------+---------------+----------------+---------------+---------------+------------------------+-------------------+---------------------+---------------------+----------------------+----------------+----------------+-----------------+----------------+----------------+------------------------+-------------------+---------------------+---------------------+----------------------+----------------+----------------+-----------------+----------------+----------------+---------------+----------+------------+------------+-------------+-------+-------+--------+-------+-------+---------------+----------+------------+------------+-------------+-------+-------+--------+-------+-------+---------------+----------+------------+------------+-------------+-------+-------+--------+-------+-------+---------------+----------+------------+------------+-------------+-------+-------+--------+-------+-------+------------+---------------+--------------+-----------+-----+\n",
      "only showing top 20 rows\n",
      "\n"
     ]
    },
    {
     "name": "stderr",
     "output_type": "stream",
     "text": [
      "                                                                                \r"
     ]
    }
   ],
   "source": []
  },
  {
   "cell_type": "code",
   "execution_count": 37,
   "id": "e244cb85",
   "metadata": {},
   "outputs": [
    {
     "data": {
      "text/html": [
       "<div>\n",
       "<style scoped>\n",
       "    .dataframe tbody tr th:only-of-type {\n",
       "        vertical-align: middle;\n",
       "    }\n",
       "\n",
       "    .dataframe tbody tr th {\n",
       "        vertical-align: top;\n",
       "    }\n",
       "\n",
       "    .dataframe thead th {\n",
       "        text-align: right;\n",
       "    }\n",
       "</style>\n",
       "<table border=\"1\" class=\"dataframe\">\n",
       "  <thead>\n",
       "    <tr style=\"text-align: right;\">\n",
       "      <th></th>\n",
       "      <th>Account_name</th>\n",
       "      <th>Target_acos</th>\n",
       "    </tr>\n",
       "  </thead>\n",
       "  <tbody>\n",
       "    <tr>\n",
       "      <th>0</th>\n",
       "      <td>awenest</td>\n",
       "      <td>70</td>\n",
       "    </tr>\n",
       "    <tr>\n",
       "      <th>1</th>\n",
       "      <td>BeyondNxt</td>\n",
       "      <td>30</td>\n",
       "    </tr>\n",
       "  </tbody>\n",
       "</table>\n",
       "</div>"
      ],
      "text/plain": [
       "  Account_name  Target_acos\n",
       "0      awenest           70\n",
       "1    BeyondNxt           30"
      ]
     },
     "execution_count": 37,
     "metadata": {},
     "output_type": "execute_result"
    }
   ],
   "source": [
    "df"
   ]
  },
  {
   "cell_type": "code",
   "execution_count": null,
   "id": "382aa2d3",
   "metadata": {},
   "outputs": [],
   "source": []
  }
 ],
 "metadata": {
  "kernelspec": {
   "display_name": "Python 3",
   "language": "python",
   "name": "python3"
  },
  "language_info": {
   "codemirror_mode": {
    "name": "ipython",
    "version": 3
   },
   "file_extension": ".py",
   "mimetype": "text/x-python",
   "name": "python",
   "nbconvert_exporter": "python",
   "pygments_lexer": "ipython3",
   "version": "3.8.10"
  }
 },
 "nbformat": 4,
 "nbformat_minor": 5
}

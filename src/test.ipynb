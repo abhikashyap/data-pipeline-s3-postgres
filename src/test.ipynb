{
 "cells": [
  {
   "cell_type": "code",
   "execution_count": null,
   "id": "2b4270cd",
   "metadata": {},
   "outputs": [],
   "source": [
    "from pyspark.sql import SparkSession\n",
    "spark = SparkSession.builder.appName(\"check\").getOrCreate()\n",
    "\n"
   ]
  },
  {
   "cell_type": "code",
   "execution_count": null,
   "id": "54941e95",
   "metadata": {},
   "outputs": [],
   "source": [
    "from pyspark.sql import SparkSession\n",
    "from pyspark.sql import DataFrame  # or: from pyspark.sql.dataframe import DataFrame\n",
    "from pyspark.sql import functions as F, types as T\n",
    "from main.utility.logging_config import logger\n",
    "df: DataFrame = (\n",
    "    spark.read.format(\"csv\")\n",
    "    .option(\"inferSchema\", True)\n",
    "    .option(\"header\", True)\n",
    "    .load(\"../fk.csv\")\n",
    ")\n",
    "df.show()\n",
    "logger.log(level=10,msg=\"hi\")"
   ]
  },
  {
   "cell_type": "code",
   "execution_count": 1,
   "id": "c21c2da2",
   "metadata": {},
   "outputs": [
    {
     "name": "stdout",
     "output_type": "stream",
     "text": [
      "JAVA_HOME: /opt/java/openjdk\n"
     ]
    },
    {
     "name": "stderr",
     "output_type": "stream",
     "text": [
      "Setting default log level to \"WARN\".\n",
      "To adjust logging level use sc.setLogLevel(newLevel). For SparkR, use setLogLevel(newLevel).\n",
      "25/09/03 08:31:05 WARN NativeCodeLoader: Unable to load native-hadoop library for your platform... using builtin-java classes where applicable\n",
      "25/09/03 08:31:07 WARN Utils: Service 'SparkUI' could not bind on port 4040. Attempting port 4041.\n"
     ]
    },
    {
     "name": "stdout",
     "output_type": "stream",
     "text": [
      "Spark: 3.5.1\n",
      "STS: {'UserId': 'AROAZI2LGOPW3CVN6PGSU:i-0399e8193fe8f80bc', 'Account': '637423481837', 'Arn': 'arn:aws:sts::637423481837:assumed-role/server/i-0399e8193fe8f80bc', 'ResponseMetadata': {'RequestId': '2bb8eccc-e8d8-4604-b477-0bed7ce5095e', 'HTTPStatusCode': 200, 'HTTPHeaders': {'x-amzn-requestid': '2bb8eccc-e8d8-4604-b477-0bed7ce5095e', 'x-amz-sts-extended-request-id': 'MTp1cy1lYXN0LTE6MTc1Njg4ODI2ODM4NTpHOkw4eTNHTHBN', 'content-type': 'text/xml', 'content-length': '451', 'date': 'Wed, 03 Sep 2025 08:31:08 GMT'}, 'RetryAttempts': 0}}\n"
     ]
    },
    {
     "name": "stderr",
     "output_type": "stream",
     "text": [
      "25/09/03 08:31:10 WARN MetricsConfig: Cannot locate configuration: tried hadoop-metrics2-s3a-file-system.properties,hadoop-metrics2.properties\n",
      "                                                                                \r"
     ]
    },
    {
     "name": "stdout",
     "output_type": "stream",
     "text": [
      "+----------+\n",
      "|brand_name|\n",
      "+----------+\n",
      "|     3bros|\n",
      "|      aadi|\n",
      "|      aayu|\n",
      "|      acer|\n",
      "|  achintya|\n",
      "+----------+\n",
      "only showing top 5 rows\n",
      "\n"
     ]
    }
   ],
   "source": [
    "import os\n",
    "print(\"JAVA_HOME:\", os.environ.get(\"JAVA_HOME\"))\n",
    "\n",
    "from pyspark.sql import SparkSession\n",
    "spark = SparkSession.builder.appName(\"check\").getOrCreate()\n",
    "print(\"Spark:\", spark.version)\n",
    "\n",
    "import boto3\n",
    "print(\"STS:\", boto3.client(\"sts\").get_caller_identity())\n",
    "\n",
    "df = spark.read.option(\"header\", True).option(\"inferSchema\", True)\\\n",
    "       .csv(\"s3a://mkdv1/brands.csv\")\n",
    "df.show(5)"
   ]
  },
  {
   "cell_type": "code",
   "execution_count": 1,
   "id": "a5ed59a2",
   "metadata": {},
   "outputs": [
    {
     "name": "stderr",
     "output_type": "stream",
     "text": [
      "Setting default log level to \"WARN\".\n",
      "To adjust logging level use sc.setLogLevel(newLevel). For SparkR, use setLogLevel(newLevel).\n",
      "25/09/03 12:41:19 WARN NativeCodeLoader: Unable to load native-hadoop library for your platform... using builtin-java classes where applicable\n"
     ]
    }
   ],
   "source": [
    "from pyspark.sql import SparkSession\n",
    "import os\n",
    "spark = SparkSession.builder \\\n",
    "    .appName(\"BigCSVWrite\") \\\n",
    "    .config(\"spark.driver.memory\", \"5g\") \\\n",
    "    .config(\"spark.executor.memory\", \"4g\") \\\n",
    "    .config(\"spark.sql.shuffle.partitions\", \"200\") \\\n",
    "    .getOrCreate()\n"
   ]
  },
  {
   "cell_type": "code",
   "execution_count": 2,
   "id": "ff08fbcc",
   "metadata": {},
   "outputs": [],
   "source": [
    "from pyspark.sql import SparkSession\n",
    "from pyspark.sql import DataFrame  # or: from pyspark.sql.dataframe import DataFrame\n",
    "from pyspark.sql import functions as F, types as T"
   ]
  },
  {
   "cell_type": "code",
   "execution_count": 34,
   "id": "9c04a974",
   "metadata": {},
   "outputs": [],
   "source": [
    "from pyspark.sql import SparkSession\n",
    "spark = SparkSession.builder.getOrCreate()\n",
    "\n",
    "# Should not raise:\n",
    "spark.sparkContext._jvm.java.lang.Class.forName(\"org.postgresql.Driver\")\n",
    "ip='172.31.19.202'\n",
    "db='amazon_sp_api'\n",
    "password='Techblooprint123'\n",
    "user=\"blooprint\"\n",
    "\n",
    "URL  = os.getenv(\"PG_JDBC_URL\", f\"jdbc:postgresql://{ip}:5433/{db}\")\n",
    "USER = os.getenv(\"PG_USER\", user)\n",
    "PWD  = os.getenv(\"PG_PASSWORD\", password)\n",
    "portfolio_query = \"(SELECT * FROM public.portfolio_id_name_mapping) AS p\"\n",
    "\n",
    "portfolio_id_name_mapping = (spark.read.format(\"jdbc\")\n",
    "      .option(\"url\", URL)\n",
    "      .option(\"user\", USER)\n",
    "      .option(\"password\", PWD)\n",
    "      .option(\"driver\", \"org.postgresql.Driver\")\n",
    "      .option(\"dbtable\", portfolio_query)\n",
    "      .load())\n",
    "campaign_query = \"(SELECT * FROM public.campaigns) as c\"\n",
    "campaigns = (spark.read.format(\"jdbc\")\n",
    "      .option(\"url\", URL)\n",
    "      .option(\"user\", USER)\n",
    "      .option(\"password\", PWD)\n",
    "      .option(\"driver\", \"org.postgresql.Driver\")\n",
    "      .option(\"dbtable\", campaign_query)\n",
    "      .load())\n",
    "competitor_query = \"(SELECT * FROM public.competitor_brand_data) as cb\"\n",
    "competitors = (spark.read.format(\"jdbc\")\n",
    "      .option(\"url\", URL)\n",
    "      .option(\"user\", USER)\n",
    "      .option(\"password\", PWD)\n",
    "      .option(\"driver\", \"org.postgresql.Driver\")\n",
    "      .option(\"dbtable\", competitor_query)\n",
    "      .load())\n",
    "sb_kw_query = \"(SELECT * FROM public.sponsored_brands_search_term) as sb\"\n",
    "sb_kw = (spark.read.format(\"jdbc\")\n",
    "      .option(\"url\", URL)\n",
    "      .option(\"user\", USER)\n",
    "      .option(\"password\", PWD)\n",
    "      .option(\"driver\", \"org.postgresql.Driver\")\n",
    "      .option(\"dbtable\", sb_kw_query)\n",
    "      .load())\n",
    "sp_kw_query = \"(SELECT * FROM public.sponsored_products_search_term) as sp\"\n",
    "sp_kw = (spark.read.format(\"jdbc\")\n",
    "      .option(\"url\", URL)\n",
    "      .option(\"user\", USER)\n",
    "      .option(\"password\", PWD)\n",
    "      .option(\"driver\", \"org.postgresql.Driver\")\n",
    "      .option(\"dbtable\", sp_kw_query)\n",
    "      .load())\n",
    "sd_kw_query = \"(SELECT * FROM public.sponsored_display_targeting) as sd\"\n",
    "sd_kw = (spark.read.format(\"jdbc\")\n",
    "      .option(\"url\", URL)\n",
    "      .option(\"user\", USER)\n",
    "      .option(\"password\", PWD)\n",
    "      .option(\"driver\", \"org.postgresql.Driver\")\n",
    "      .option(\"dbtable\", sd_kw_query)\n",
    "      .load())\n",
    "\n",
    "targets_query = \"(SELECT * FROM public.targets ) as t\"\n",
    "targets = (spark.read.format(\"jdbc\")\n",
    "      .option(\"url\", URL)\n",
    "      .option(\"user\", USER)\n",
    "      .option(\"password\", PWD)\n",
    "      .option(\"driver\", \"org.postgresql.Driver\")\n",
    "      .option(\"dbtable\", targets_query)\n",
    "      .load())\n",
    "bid_query=\"\"\"(SELECT unnamed_subquery.keyword_id,\n",
    "            unnamed_subquery.bid,\n",
    "            unnamed_subquery.bid_tym\n",
    "           FROM ( SELECT bid_values.keyword_id,\n",
    "                    bid_values.bid,\n",
    "                    bid_values.updated_date::date AS bid_tym,\n",
    "                    rank() OVER (PARTITION BY bid_values.keyword_id ORDER BY bid_values.updated_date DESC) AS rank\n",
    "                   FROM bid_values) unnamed_subquery\n",
    "          WHERE unnamed_subquery.rank = 1 ) bid\"\"\"\n",
    "bid_df = (spark.read.format(\"jdbc\")\n",
    "      .option(\"url\", URL)\n",
    "      .option(\"user\", USER)\n",
    "      .option(\"password\", PWD)\n",
    "      .option(\"driver\", \"org.postgresql.Driver\")\n",
    "      .option(\"dbtable\", bid_query)\n",
    "      .load())"
   ]
  },
  {
   "cell_type": "code",
   "execution_count": 4,
   "id": "f268c404",
   "metadata": {},
   "outputs": [],
   "source": [
    "campaign_df=campaigns.select(F.col(\"campaignId\").alias(\"campaign_id\"),\n",
    "                 F.col(\"portfolioId\").alias(\"portfolioId\"),\n",
    "                 F.col(\"name\").alias(\"campaign_name\"),\n",
    "                 ).dropDuplicates(['campaign_id'])\n"
   ]
  },
  {
   "cell_type": "code",
   "execution_count": 5,
   "id": "1a9e6453",
   "metadata": {},
   "outputs": [],
   "source": [
    "portfolio_df=portfolio_id_name_mapping.select(F.col(\"portfolioId\").alias(\"portfolioId\"),\n",
    "                                 F.col(\"name\").alias(\"portfolio_name\")).dropDuplicates(['portfolioId'])\n",
    "portfolio_mapping=campaign_df.join(portfolio_df,on=campaign_df['portfolioId']==portfolio_df['portfolioId'],how='left')"
   ]
  },
  {
   "cell_type": "code",
   "execution_count": 6,
   "id": "b6dff582",
   "metadata": {},
   "outputs": [],
   "source": [
    "sb_search_term=sb_kw.select(F.col(\"account_name\"),\n",
    "             F.split(F.col(\"campaignId\").cast(\"string\"),\"\\\\.\").getItem(0).alias(\"campaignId\"),\n",
    "             F.col(\"campaignName\").alias(\"campaign_name\"),\n",
    "             F.split(F.col(\"adGroupId\").cast(\"string\"),\"\\\\.\").getItem(0).alias(\"ad_group_id\"),\n",
    "             F.col(\"adGroupName\").alias(\"ad_group_name\"),\n",
    "             F.split(F.col(\"keywordId\").cast(\"string\"),\"\\\\.\").getItem(0).alias(\"keyword_id\"),\n",
    "             F.col(\"keywordText\").alias(\"keyword\"),\n",
    "             F.col(\"searchTerm\").alias(\"search_term\"),\n",
    "             F.col(\"date\").cast(\"date\").alias(\"date\"),\n",
    "             F.col(\"impressions\").alias(\"impressions\"),\n",
    "             F.col(\"clicks\").alias(\"clicks\"),\n",
    "             F.col(\"cost\").alias(\"ad_spend\"),\n",
    "             F.col(\"sales\").alias(\"ads_sale\"),\n",
    "             F.col(\"unitsSold\").alias(\"ads_units\"),\n",
    "             F.col(\"matchType\").alias(\"match_type\"),\n",
    "\n",
    "\n",
    "             )"
   ]
  },
  {
   "cell_type": "code",
   "execution_count": 7,
   "id": "9ecdbf93",
   "metadata": {},
   "outputs": [],
   "source": [
    "sd_search_term=sd_kw.select(F.col(\"account_name\"),\n",
    "             F.split(F.col(\"campaignId\").cast(\"string\"),\"\\\\.\").getItem(0).alias(\"campaignId\"),\n",
    "             F.col(\"campaignName\").alias(\"campaign_name\"),\n",
    "             F.split(F.col(\"adGroupId\").cast(\"string\"),\"\\\\.\").getItem(0).alias(\"ad_group_id\"),\n",
    "             F.col(\"adGroupName\").alias(\"ad_group_name\"),\n",
    "             F.split(F.col(\"targetingId\").cast(\"string\"),\"\\\\.\").getItem(0).alias(\"keyword_id\"),\n",
    "             F.col(\"targetingText\").alias(\"keyword\"),\n",
    "             F.lit(\"not_applicable\").alias(\"search_term\"),\n",
    "             F.col(\"date\").cast(\"date\").alias(\"date\"),\n",
    "             F.col(\"impressions\").alias(\"impressions\"),\n",
    "             F.col(\"clicks\").alias(\"clicks\"),\n",
    "             F.col(\"cost\").alias(\"ad_spend\"),\n",
    "             F.col(\"sales\").alias(\"ads_sale\"),\n",
    "             F.col(\"unitsSold\").alias(\"ads_units\"),\n",
    "             F.lit(\"DSP TGT\").alias(\"match_type\"),\n",
    "\n",
    "             )"
   ]
  },
  {
   "cell_type": "code",
   "execution_count": 8,
   "id": "d4a7f2a6",
   "metadata": {},
   "outputs": [],
   "source": [
    "sp_search_term=sp_kw.select(F.col(\"account_name\"),\n",
    "             F.split(F.col(\"campaignId\").cast(\"string\"),\"\\\\.\").getItem(0).alias(\"campaignId\"),\n",
    "             F.col(\"campaignName\").alias(\"campaign_name\"),\n",
    "             F.split(F.col(\"adGroupId\").cast(\"string\"),\"\\\\.\").getItem(0).alias(\"ad_group_id\"),\n",
    "             F.col(\"adGroupName\").alias(\"ad_group_name\"),\n",
    "             F.split(F.col(\"keywordId\").cast(\"string\"),\"\\\\.\").getItem(0).alias(\"keyword_id\"),\n",
    "             F.col(\"targeting\").alias(\"keyword\"),\n",
    "             F.col(\"searchTerm\").alias(\"search_term\"),\n",
    "             F.col(\"date\").cast(\"date\").alias(\"date\"),\n",
    "             F.col(\"impressions\").alias(\"impressions\"),\n",
    "             F.col(\"clicks\").alias(\"clicks\"),\n",
    "             F.col(\"cost\").alias(\"ad_spend\"),\n",
    "             F.col(\"sales30d\").alias(\"ads_sale\"),\n",
    "             F.col(\"unitsSoldSameSku1d\").alias(\"ads_units\"),\n",
    "             F.col(\"matchType\").alias(\"match_type\"),\n",
    "\n",
    "\n",
    "             )"
   ]
  },
  {
   "cell_type": "code",
   "execution_count": 9,
   "id": "acd5a19d",
   "metadata": {},
   "outputs": [],
   "source": [
    "keyword_df=sp_search_term.unionByName(sb_search_term).unionByName(sd_search_term)"
   ]
  },
  {
   "cell_type": "code",
   "execution_count": 10,
   "id": "caba932e",
   "metadata": {},
   "outputs": [],
   "source": [
    "keyword_df=keyword_df.withColumn(\n",
    "    \"new_match_type\",\n",
    "    F.when(\n",
    "        (F.col(\"match_type\") == \"TARGETING_EXPRESSION\") & F.col(\"keyword\").like(\"%asin=%\"),\n",
    "        F.lit(\"PT EXACT\")\n",
    "    ).when(\n",
    "        (F.col(\"match_type\") == \"TARGETING_EXPRESSION\") & F.col(\"keyword\").like(\"%category=%\"),\n",
    "        F.lit(\"PT CAT\")\n",
    "    ).when(\n",
    "        (F.col(\"match_type\") == \"TARGETING_EXPRESSION\") & F.col(\"keyword\").like(\"%asin-expanded=%\"),\n",
    "        F.lit(\"PT EXP\")\n",
    "    ).when(\n",
    "        F.col(\"match_type\") == \"TARGETING_EXPRESSION_PREDEFINED\",\n",
    "        F.upper(F.col(\"keyword\"))\n",
    "    ).otherwise(F.col(\"match_type\"))\n",
    ")"
   ]
  },
  {
   "cell_type": "code",
   "execution_count": 11,
   "id": "a4954a7c",
   "metadata": {},
   "outputs": [],
   "source": [
    "our_asins_df=competitors.select(\n",
    "    F.col(\"our_asins\"),\n",
    "    F.col(\"account_name\")\n",
    ").where(\n",
    "    F.col(\"our_asins\").isNotNull()\n",
    "\n",
    ").dropDuplicates()"
   ]
  },
  {
   "cell_type": "code",
   "execution_count": 12,
   "id": "1e6d4469",
   "metadata": {},
   "outputs": [],
   "source": [
    "keyword_df=keyword_df.withColumn(\n",
    "    \"asin_extracted\",\n",
    "    F.when(\n",
    "        (F.col(\"keyword\").contains(\"asin=\")) | (F.col(\"keyword\").contains(\"asin-expanded=\")),\n",
    "        # split on \"=\" then take the right side\n",
    "        F.split(F.col(\"keyword\"), \"=\").getItem(1)   \n",
    "    ).otherwise(F.lit(None))\n",
    ")"
   ]
  },
  {
   "cell_type": "code",
   "execution_count": 13,
   "id": "9d9e98e2",
   "metadata": {},
   "outputs": [],
   "source": [
    "from pyspark.sql.functions import broadcast"
   ]
  },
  {
   "cell_type": "code",
   "execution_count": 14,
   "id": "f797263e",
   "metadata": {},
   "outputs": [],
   "source": [
    "keyword_df=keyword_df.withColumn(\"asin_extracted\",F.translate(F.col(\"asin_extracted\"),'\"',\"\"))"
   ]
  },
  {
   "cell_type": "code",
   "execution_count": 15,
   "id": "20688bd7",
   "metadata": {},
   "outputs": [],
   "source": [
    "our_asins_df = our_asins_df.withColumnRenamed(\"account_name\", \"asin_account_name\")\n",
    "\n",
    "keyword_df = keyword_df.join(\n",
    "    F.broadcast(our_asins_df),\n",
    "    (keyword_df[\"account_name\"] == our_asins_df[\"asin_account_name\"]) &\n",
    "    (keyword_df[\"asin_extracted\"] == our_asins_df[\"our_asins\"]),\n",
    "    how=\"left\"\n",
    ")\n"
   ]
  },
  {
   "cell_type": "code",
   "execution_count": 16,
   "id": "5f5a7958",
   "metadata": {},
   "outputs": [],
   "source": [
    "keyword_df=keyword_df.drop('asin_account_name')"
   ]
  },
  {
   "cell_type": "code",
   "execution_count": 17,
   "id": "26080584",
   "metadata": {},
   "outputs": [
    {
     "data": {
      "text/plain": [
       "DataFrame[account_name: string, campaignId: string, campaign_name: string, ad_group_id: string, ad_group_name: string, keyword_id: string, keyword: string, search_term: string, date: date, impressions: decimal(20,2), clicks: decimal(20,2), ad_spend: decimal(20,2), ads_sale: decimal(20,2), ads_units: decimal(20,2), match_type: string, new_match_type: string, asin_extracted: string, our_asins: string, isbdasin: boolean]"
      ]
     },
     "execution_count": 17,
     "metadata": {},
     "output_type": "execute_result"
    }
   ],
   "source": [
    "\n",
    "keyword_df.withColumn(\n",
    "    \"isbdasin\",\n",
    "    F.when(F.col(\"asin_extracted\") == F.col(\"our_asins\"), F.lit(True))\n",
    "     .otherwise(F.lit(False))\n",
    ")\n",
    "\n"
   ]
  },
  {
   "cell_type": "code",
   "execution_count": 18,
   "id": "e3420110",
   "metadata": {},
   "outputs": [],
   "source": [
    "self_brand_name=competitors.select(\n",
    "    F.col(\"our_brand_name\"),\n",
    "    F.col(\"account_name\")\n",
    ").dropDuplicates()"
   ]
  },
  {
   "cell_type": "code",
   "execution_count": 19,
   "id": "903e6474",
   "metadata": {},
   "outputs": [],
   "source": [
    "self_brand_name=self_brand_name.filter(\n",
    "    (F.col(\"our_brand_name\").isNotNull())|(F.col(\"our_brand_name\")!=\"\")\n",
    "\n",
    ")"
   ]
  },
  {
   "cell_type": "code",
   "execution_count": 20,
   "id": "ce979c49",
   "metadata": {},
   "outputs": [],
   "source": [
    "self_brand_name = (\n",
    "    self_brand_name\n",
    "    .withColumn(\n",
    "        \"our_brand_name\",\n",
    "        F.regexp_replace(\"our_brand_name\", \"Your Everyday Greens\", \"Everyday\")\n",
    "    )\n",
    "    .withColumn(\n",
    "        \"our_brand_name\",\n",
    "        F.regexp_replace(\"our_brand_name\", \"Beyond Appliances\", \"Beyond\")\n",
    "    )\n",
    ")"
   ]
  },
  {
   "cell_type": "code",
   "execution_count": 21,
   "id": "d588ee48",
   "metadata": {},
   "outputs": [],
   "source": [
    "brand_regex = (\n",
    "    self_brand_name\n",
    "      .groupBy(\"account_name\")\n",
    "      .agg(\n",
    "          F.concat_ws(\"|\", F.collect_set(\"our_brand_name\")).alias(\"brand_pattern\")\n",
    "      )\n",
    "      .withColumn(\"brand_pattern\", F.concat(F.lit(\"(?i)(\"), F.col(\"brand_pattern\"), F.lit(\")\")))\n",
    ")"
   ]
  },
  {
   "cell_type": "code",
   "execution_count": 22,
   "id": "1845cf6d",
   "metadata": {},
   "outputs": [],
   "source": [
    "\n",
    "keyword_df = (\n",
    "    keyword_df\n",
    "    .join(F.broadcast(brand_regex), on=\"account_name\", how=\"left\")\n",
    "    .withColumn(\"bd_brand\",\n",
    "        F.expr(\"keyword rlike brand_pattern\")\n",
    "    )\n",
    ")"
   ]
  },
  {
   "cell_type": "code",
   "execution_count": 23,
   "id": "18854aaf",
   "metadata": {},
   "outputs": [],
   "source": [
    "comp_brand_name=competitors.select(\n",
    "    F.col(\"competitor_brand_name\"),\n",
    "    F.col(\"account_name\")\n",
    ").dropDuplicates()"
   ]
  },
  {
   "cell_type": "code",
   "execution_count": 24,
   "id": "8156f35e",
   "metadata": {},
   "outputs": [],
   "source": [
    "comp_brand_name=comp_brand_name.filter(\n",
    "    (F.col(\"competitor_brand_name\").isNotNull())|(F.col(\"competitor_brand_name\")!=\"\")\n",
    ").dropDuplicates()"
   ]
  },
  {
   "cell_type": "code",
   "execution_count": 25,
   "id": "c74cbdbd",
   "metadata": {},
   "outputs": [],
   "source": [
    "comp_brand_name_regex=comp_brand_name.groupby(\"account_name\").agg(F.concat_ws(\"|\",F.collect_set(\"competitor_brand_name\")).alias(\"competitor_brand_name\"))"
   ]
  },
  {
   "cell_type": "code",
   "execution_count": 26,
   "id": "59d804b1",
   "metadata": {},
   "outputs": [],
   "source": [
    "keyword_df=(\n",
    "    keyword_df\n",
    "    .join(F.broadcast(comp_brand_name_regex), on=\"account_name\", how=\"left\")\n",
    "    .withColumn(\"ba_brand\", F.expr(\"lower(keyword) rlike lower(competitor_brand_name)\"))\n",
    "\n",
    ")"
   ]
  },
  {
   "cell_type": "code",
   "execution_count": 27,
   "id": "a3038f67",
   "metadata": {},
   "outputs": [],
   "source": [
    "keyword_df=keyword_df.withColumn(\n",
    "    \"strategy\",\n",
    "    F.when(\n",
    "        (F.col(\"asin_extracted\") == F.col(\"our_asins\")) | F.col(\"bd_brand\"),\n",
    "        \"bd\"\n",
    "    )\n",
    "    .when(\n",
    "        F.col(\"ba_brand\") |\n",
    "        (\n",
    "            (F.col(\"asin_extracted\").isNotNull()) &\n",
    "            (\n",
    "                (F.col(\"asin_extracted\") != F.col(\"our_asins\")) |\n",
    "                (F.col(\"our_asins\").isNull())\n",
    "            )\n",
    "        ),\n",
    "        \"ba\"\n",
    "    )\n",
    "    .otherwise(\"generic\")\n",
    ")"
   ]
  },
  {
   "cell_type": "code",
   "execution_count": 28,
   "id": "6d1362c4",
   "metadata": {},
   "outputs": [],
   "source": [
    "keyword_df=keyword_df.drop(\"asin_extracted\",\"our_asins\",\"brand_pattern\",'bd_brand',\"ba_brand\",\"competitor_brand_name\")"
   ]
  },
  {
   "cell_type": "code",
   "execution_count": 29,
   "id": "d6638028",
   "metadata": {},
   "outputs": [],
   "source": [
    "\n",
    "keyword_df=keyword_df.select('account_name',\n",
    " 'campaign_name',\n",
    " 'ad_group_id',\n",
    " 'ad_group_name',\n",
    " 'keyword_id',\n",
    " 'keyword',\n",
    " 'search_term',\n",
    " 'date',\n",
    " 'impressions',\n",
    " 'clicks',\n",
    " 'ad_spend',\n",
    " 'ads_sale',\n",
    " 'ads_units',\n",
    " 'match_type',\n",
    " 'new_match_type',\n",
    " 'strategy')"
   ]
  },
  {
   "cell_type": "code",
   "execution_count": 30,
   "id": "4ba4ebc1",
   "metadata": {},
   "outputs": [],
   "source": [
    "from pyspark.sql import functions as F\n",
    "\n",
    "target_df = (\n",
    "    targets\n",
    "    .select(\n",
    "        F.col(\"campaignId\").alias(\"campaign_id\"),\n",
    "        F.col(\"targetType\").alias(\"targeting_type\"),\n",
    "        F.col(\"targetDetails_event\").alias(\"target_event\")\n",
    "    )\n",
    "    .withColumn(\n",
    "        \"target_group\",\n",
    "        F.when(F.upper(F.col(\"targeting_type\")) == \"PRODUCT\", \"PT\")\n",
    "         .when(F.upper(F.col(\"targeting_type\")) == \"KEYWORD\", \"KT\")\n",
    "         .when(F.upper(F.col(\"targeting_type\")).isin(\"AUTO\", \"THEME\"), \"AT\")\n",
    "         .when(F.upper(F.col(\"targeting_type\")) == \"PRODUCT_CATEGORY\", \"CT\")\n",
    "         .when(F.upper(F.col(\"targeting_type\")) == \"AUDIENCE\", \"ADT\")\n",
    "         .when(\n",
    "             (F.upper(F.col(\"targeting_type\")).isin(\"PRODUCT_CATEGORY_AUDIENCE\", \"PRODUCT_AUDIENCE\")) &\n",
    "             (F.upper(F.col(\"target_event\")) == \"PURCHASES\"),\n",
    "             \"PR\"\n",
    "         )\n",
    "         .when(\n",
    "             (F.upper(F.col(\"targeting_type\")).isin(\"PRODUCT_CATEGORY_AUDIENCE\", \"PRODUCT_AUDIENCE\")) &\n",
    "             (F.upper(F.col(\"target_event\")) == \"VIEWS\"),\n",
    "             \"VR\"\n",
    "         )\n",
    "         .otherwise(\"Not Applicable\")\n",
    "    )\n",
    "    .dropDuplicates()\n",
    ")\n"
   ]
  },
  {
   "cell_type": "code",
   "execution_count": null,
   "id": "ed7ad2f6",
   "metadata": {},
   "outputs": [],
   "source": []
  }
 ],
 "metadata": {
  "kernelspec": {
   "display_name": "Python 3",
   "language": "python",
   "name": "python3"
  },
  "language_info": {
   "codemirror_mode": {
    "name": "ipython",
    "version": 3
   },
   "file_extension": ".py",
   "mimetype": "text/x-python",
   "name": "python",
   "nbconvert_exporter": "python",
   "pygments_lexer": "ipython3",
   "version": "3.8.10"
  }
 },
 "nbformat": 4,
 "nbformat_minor": 5
}

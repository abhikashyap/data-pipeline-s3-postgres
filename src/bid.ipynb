{
 "cells": [
  {
   "cell_type": "code",
   "execution_count": 1,
   "id": "a60bdf06",
   "metadata": {},
   "outputs": [],
   "source": [
    "ip='172.31.19.202'\n",
    "db='amazon_sp_api'\n",
    "password='Techblooprint123'\n",
    "user=\"blooprint\"\n"
   ]
  },
  {
   "cell_type": "code",
   "execution_count": 2,
   "id": "f268c404",
   "metadata": {},
   "outputs": [
    {
     "name": "stderr",
     "output_type": "stream",
     "text": [
      "Setting default log level to \"WARN\".\n",
      "To adjust logging level use sc.setLogLevel(newLevel). For SparkR, use setLogLevel(newLevel).\n",
      "25/09/18 07:30:12 WARN NativeCodeLoader: Unable to load native-hadoop library for your platform... using builtin-java classes where applicable\n"
     ]
    }
   ],
   "source": [
    "from pyspark.sql import SparkSession\n",
    "import os\n",
    "from clickhouse_driver import Client\n",
    "\n",
    "spark = SparkSession.builder \\\n",
    "    .appName(\"BigCSVWrite\") \\\n",
    "    .config(\"spark.driver.memory\", \"5g\") \\\n",
    "    .config(\"spark.executor.memory\", \"6g\") \\\n",
    "    .getOrCreate()\n",
    "spark.conf.set(\"spark.sql.adaptive.enabled\", \"true\")\n",
    "spark.conf.set(\"spark.sql.shuffle.partitions\", \"50\")\n",
    "from pyspark.sql import SparkSession\n",
    "from pyspark.sql import DataFrame  # or: from pyspark.sql.dataframe import DataFrame\n",
    "from pyspark.sql import functions as F, types as T\n",
    "from pyspark.sql import SparkSession\n",
    "spark = SparkSession.builder.getOrCreate()\n",
    "from pyspark.sql.functions import broadcast\n",
    "from pyspark.sql import functions as F\n",
    "# Should not raise:\n",
    "spark.sparkContext._jvm.java.lang.Class.forName(\"org.postgresql.Driver\")\n",
    "\n",
    "URL  = os.getenv(\"PG_JDBC_URL\", f\"jdbc:postgresql://{ip}:5433/{db}\")\n",
    "USER = os.getenv(\"PG_USER\", user)\n",
    "PWD  = os.getenv(\"PG_PASSWORD\", password)\n",
    "portfolio_query = \"(SELECT * FROM public.portfolio_id_name_mapping) AS p\"\n",
    "\n",
    "portfolio_id_name_mapping = (spark.read.format(\"jdbc\")\n",
    "      .option(\"url\", URL)\n",
    "      .option(\"user\", USER)\n",
    "      .option(\"password\", PWD)\n",
    "      .option(\"driver\", \"org.postgresql.Driver\")\n",
    "      .option(\"dbtable\", portfolio_query)\n",
    "      .load())\n",
    "campaign_query = \"(SELECT * FROM public.campaigns) as c\"\n",
    "campaigns = (spark.read.format(\"jdbc\")\n",
    "      .option(\"url\", URL)\n",
    "      .option(\"user\", USER)\n",
    "      .option(\"password\", PWD)\n",
    "      .option(\"driver\", \"org.postgresql.Driver\")\n",
    "      .option(\"dbtable\", campaign_query)\n",
    "      .load())\n",
    "bid_query = \"(SELECT * FROM public.bid_values) as b\"\n",
    "bid_df = (spark.read.format(\"jdbc\")\n",
    "      .option(\"url\", URL)\n",
    "      .option(\"user\", USER)\n",
    "      .option(\"password\", PWD)\n",
    "      .option(\"driver\", \"org.postgresql.Driver\")\n",
    "      .option(\"dbtable\", bid_query)\n",
    "      .load())\n",
    "sb_kw_query = \"(SELECT * FROM public.sponsored_brands_search_term) as sb\"\n",
    "sb_kw = (spark.read.format(\"jdbc\")\n",
    "      .option(\"url\", URL)\n",
    "      .option(\"user\", USER)\n",
    "      .option(\"password\", PWD)\n",
    "      .option(\"driver\", \"org.postgresql.Driver\")\n",
    "      .option(\"dbtable\", sb_kw_query)\n",
    "      .load())\n",
    "sp_kw_query = \"(SELECT * FROM public.sponsored_products_search_term) as sp\"\n",
    "sp_kw = (spark.read.format(\"jdbc\")\n",
    "      .option(\"url\", URL)\n",
    "      .option(\"user\", USER)\n",
    "      .option(\"password\", PWD)\n",
    "      .option(\"driver\", \"org.postgresql.Driver\")\n",
    "      .option(\"dbtable\", sp_kw_query)\n",
    "      .load())\n",
    "sd_kw_query = \"(SELECT * FROM public.sponsored_display_targeting) as sd\"\n",
    "sd_kw = (spark.read.format(\"jdbc\")\n",
    "      .option(\"url\", URL)\n",
    "      .option(\"user\", USER)\n",
    "      .option(\"password\", PWD)\n",
    "      .option(\"driver\", \"org.postgresql.Driver\")\n",
    "      .option(\"dbtable\", sd_kw_query)\n",
    "      .load())\n",
    "\n",
    "targets_query = \"(SELECT * FROM public.targets ) as t\"\n",
    "targets = (spark.read.format(\"jdbc\")\n",
    "      .option(\"url\", URL)\n",
    "      .option(\"user\", USER)\n",
    "      .option(\"password\", PWD)\n",
    "      .option(\"driver\", \"org.postgresql.Driver\")\n",
    "      .option(\"dbtable\", targets_query)\n",
    "      .load())\n",
    "ads_query = \"(SELECT * FROM public.ads ) as a\"\n",
    "ads_df = (spark.read.format(\"jdbc\")\n",
    "      .option(\"url\", URL)\n",
    "      .option(\"user\", USER)\n",
    "      .option(\"password\", PWD)\n",
    "      .option(\"driver\", \"org.postgresql.Driver\")\n",
    "      .option(\"dbtable\", ads_query)\n",
    "      .load())\n",
    "\n",
    "campaign_df=campaigns.select(F.col(\"campaignId\").alias(\"campaign_id\"),\n",
    "                 F.col(\"portfolioId\").alias(\"portfolioId1\"),\n",
    "                 F.col(\"name\").alias(\"campaign_name\"),\n",
    "                 ).dropDuplicates(['campaign_id'])\n",
    "\n",
    "portfolio_df=portfolio_id_name_mapping.select(F.col(\"portfolioId\").alias(\"portfolioId\"),\n",
    "                                 F.col(\"name\").alias(\"portfolio_name\")).dropDuplicates(['portfolioId'])\n",
    "portfolio_mapping=campaign_df.join(portfolio_df,on=campaign_df['portfolioId1']==portfolio_df['portfolioId'],how='left')\n",
    "sb_search_term=sb_kw.select(F.col(\"account_name\"),\n",
    "             F.split(F.col(\"campaignId\").cast(\"string\"),\"\\\\.\").getItem(0).alias(\"campaignId\"),\n",
    "             F.col(\"campaignName\").alias(\"campaign_name\"),\n",
    "             F.split(F.col(\"adGroupId\").cast(\"string\"),\"\\\\.\").getItem(0).alias(\"ad_group_id\"),\n",
    "             F.col(\"adGroupName\").alias(\"ad_group_name\"),\n",
    "             F.split(F.col(\"keywordId\").cast(\"string\"),\"\\\\.\").getItem(0).alias(\"keyword_id\"),\n",
    "             F.col(\"keywordText\").alias(\"keyword\"),\n",
    "\n",
    "             )\n",
    "sd_search_term=sd_kw.select(F.col(\"account_name\"),\n",
    "             F.split(F.col(\"campaignId\").cast(\"string\"),\"\\\\.\").getItem(0).alias(\"campaignId\"),\n",
    "             F.col(\"campaignName\").alias(\"campaign_name\"),\n",
    "             F.split(F.col(\"adGroupId\").cast(\"string\"),\"\\\\.\").getItem(0).alias(\"ad_group_id\"),\n",
    "             F.col(\"adGroupName\").alias(\"ad_group_name\"),\n",
    "             F.split(F.col(\"targetingId\").cast(\"string\"),\"\\\\.\").getItem(0).alias(\"keyword_id\"),\n",
    "             F.col(\"targetingText\").alias(\"keyword\"),\n",
    "\n",
    "             )\n",
    "sp_search_term=sp_kw.select(F.col(\"account_name\"),\n",
    "             F.split(F.col(\"campaignId\").cast(\"string\"),\"\\\\.\").getItem(0).alias(\"campaignId\"),\n",
    "             F.col(\"campaignName\").alias(\"campaign_name\"),\n",
    "             F.split(F.col(\"adGroupId\").cast(\"string\"),\"\\\\.\").getItem(0).alias(\"ad_group_id\"),\n",
    "             F.col(\"adGroupName\").alias(\"ad_group_name\"),\n",
    "             F.split(F.col(\"keywordId\").cast(\"string\"),\"\\\\.\").getItem(0).alias(\"keyword_id\"),\n",
    "             F.col(\"targeting\").alias(\"keyword\"),\n",
    "             \n",
    "\n",
    "\n",
    "             )\n",
    "keyword_df=sp_search_term.unionByName(sb_search_term).unionByName(sd_search_term)\n",
    "\n"
   ]
  },
  {
   "cell_type": "code",
   "execution_count": 3,
   "id": "dab222cc",
   "metadata": {},
   "outputs": [],
   "source": [
    "keyword_df=keyword_df.dropDuplicates()"
   ]
  },
  {
   "cell_type": "code",
   "execution_count": 6,
   "id": "9ec638d7",
   "metadata": {},
   "outputs": [],
   "source": [
    "bid_df = bid_df.select(\"keyword_id\", \"bid\", \"updated_date\", \"account_name\").dropDuplicates()  # keep only what you need\n",
    "keyword_df = keyword_df.select(\"keyword_id\", \"account_name\", \"campaign_name\", \"keyword\",\"campaignId\").dropDuplicates()\n"
   ]
  },
  {
   "cell_type": "code",
   "execution_count": 7,
   "id": "4c7e6fd3",
   "metadata": {},
   "outputs": [],
   "source": [
    "b = bid_df.alias(\"b\")\n",
    "k = keyword_df.alias(\"k\")\n",
    "\n",
    "joined_df = (\n",
    "    b.join(\n",
    "        k,\n",
    "        (F.col(\"b.keyword_id\") == F.col(\"k.keyword_id\")) &\n",
    "        (F.col(\"b.account_name\") == F.col(\"k.account_name\")),\n",
    "        how=\"left\"\n",
    "    )\n",
    "    .select(\n",
    "        F.col(\"b.keyword_id\").alias(\"keyword_id\"),\n",
    "        F.col(\"b.bid\"),\n",
    "        F.col(\"b.updated_date\").alias(\"bid_tym\"),\n",
    "        F.col(\"b.account_name\").alias(\"account_name\"),\n",
    "        F.col(\"k.campaign_name\"),\n",
    "        F.col(\"k.keyword\"),\n",
    "        F.col(\"K.campaignId\")\n",
    "    )\n",
    ")\n"
   ]
  },
  {
   "cell_type": "code",
   "execution_count": 8,
   "id": "0b6ab361",
   "metadata": {},
   "outputs": [],
   "source": [
    "joined_df=joined_df.withColumnRenamed(\"campaignId\",\"new_camp_id\")"
   ]
  },
  {
   "cell_type": "code",
   "execution_count": 9,
   "id": "9ab3aaa6",
   "metadata": {},
   "outputs": [],
   "source": [
    "portfolio_mapping=portfolio_mapping.drop(\"portfolioId1\",\"campaign_name\").dropDuplicates()"
   ]
  },
  {
   "cell_type": "code",
   "execution_count": 10,
   "metadata": {},
   "outputs": [],
   "source": [
    "pm = portfolio_mapping.alias(\"pm\")\n",
    "jd = joined_df.alias(\"jd\")\n",
    "\n",
    "result = (\n",
    "    pm.join(\n",
    "        jd,\n",
    "        jd[\"new_camp_id\"] == pm[\"campaign_id\"],\n",
    "        how=\"right\"\n",
    "    )\n",
    "    .drop(\"new_camp_id\")  # remove duplicate key\n",
    "    .withColumn(\"bid_tym\", F.col(\"bid_tym\").cast(T.DateType()))  # cast properly\n",
    ")"
   ]
  },
  {
   "cell_type": "code",
   "execution_count": 11,
   "id": "5d1d9094",
   "metadata": {},
   "outputs": [],
   "source": [
    "result=result.drop(\"campaign_name\")"
   ]
  },
  {
   "cell_type": "code",
   "execution_count": 13,
   "id": "4af50809",
   "metadata": {},
   "outputs": [],
   "source": [
    "result=result.select(\n",
    "    F.col(\"campaign_id\"),\n",
    "    F.col(\"portfolio_name\").alias(\"PORTFOLIOS\"),\n",
    "    F.col(\"bid_tym\").alias(\"DATE\"),\n",
    "    F.col(\"keyword\").alias(\"KEYWORD\"),\n",
    "    F.col('bid'),\n",
    "    F.col(\"keyword_id\"),\n",
    "    F.col(\"account_name\").alias(\"ACCOUNT NAME\")\n",
    "\n",
    "\n",
    ")"
   ]
  },
  {
   "cell_type": "code",
   "execution_count": 14,
   "metadata": {},
   "outputs": [],
   "source": [
    "dummy=result.filter(F.col(\"KEYWORD\")=='awenest')"
   ]
  },
  {
   "cell_type": "code",
   "execution_count": 15,
   "id": "99a5013d",
   "metadata": {},
   "outputs": [],
   "source": [
    "from pyspark.sql.window import Window\n",
    "df=dummy\n",
    "df = df.repartition(1)\n",
    "# --- PORTFOLIOS ---\n",
    "w_portfolio = Window.orderBy(\"PORTFOLIOS\")\n",
    "portfolio_map = (\n",
    "    df.select(\"PORTFOLIOS\").distinct()\n",
    "      .withColumn(\"PORTFOLIOS_NEW\", F.concat(F.lit(\"portfolio\"), F.dense_rank().over(w_portfolio)))\n",
    ")\n",
    "df = df.join(portfolio_map, on=\"PORTFOLIOS\", how=\"left\").drop(\"PORTFOLIOS\").withColumnRenamed(\"PORTFOLIOS_NEW\", \"PORTFOLIOS\")\n"
   ]
  },
  {
   "cell_type": "code",
   "execution_count": 16,
   "metadata": {},
   "outputs": [],
   "source": [
    "pattern = r\"(?i)\\bawenest\\b\"   \n",
    "string_cols = [c for c, t in df.dtypes if t == \"string\"]\n",
    "\n",
    "df = df.select([\n",
    "    F.regexp_replace(F.col(c), pattern, \"Dummy\").alias(c) if c in string_cols else F.col(c)\n",
    "    for c, _ in df.dtypes\n",
    "])"
   ]
  },
  {
   "cell_type": "code",
   "execution_count": 17,
   "metadata": {},
   "outputs": [
    {
     "name": "stderr",
     "output_type": "stream",
     "text": [
      "25/09/18 07:31:01 WARN SparkStringUtils: Truncated the string representation of a plan since it was too large. This behavior can be adjusted by setting 'spark.sql.debug.maxToStringFields'.\n",
      "25/09/18 07:31:03 WARN WindowExec: No Partition Defined for Window operation! Moving all data to a single partition, this can cause serious performance degradation.\n",
      "25/09/18 07:31:03 WARN WindowExec: No Partition Defined for Window operation! Moving all data to a single partition, this can cause serious performance degradation.\n",
      "25/09/18 07:31:09 WARN WindowExec: No Partition Defined for Window operation! Moving all data to a single partition, this can cause serious performance degradation.\n",
      "25/09/18 07:31:09 WARN WindowExec: No Partition Defined for Window operation! Moving all data to a single partition, this can cause serious performance degradation.\n",
      "25/09/18 07:31:10 WARN WindowExec: No Partition Defined for Window operation! Moving all data to a single partition, this can cause serious performance degradation.\n",
      "25/09/18 07:31:10 WARN WindowExec: No Partition Defined for Window operation! Moving all data to a single partition, this can cause serious performance degradation.\n",
      "25/09/18 07:31:15 WARN WindowExec: No Partition Defined for Window operation! Moving all data to a single partition, this can cause serious performance degradation.\n",
      "25/09/18 07:31:15 WARN WindowExec: No Partition Defined for Window operation! Moving all data to a single partition, this can cause serious performance degradation.\n",
      "25/09/18 07:31:15 WARN WindowExec: No Partition Defined for Window operation! Moving all data to a single partition, this can cause serious performance degradation.\n",
      "25/09/18 07:31:15 WARN WindowExec: No Partition Defined for Window operation! Moving all data to a single partition, this can cause serious performance degradation.\n",
      "25/09/18 07:31:17 WARN WindowExec: No Partition Defined for Window operation! Moving all data to a single partition, this can cause serious performance degradation.\n",
      "25/09/18 07:31:17 WARN WindowExec: No Partition Defined for Window operation! Moving all data to a single partition, this can cause serious performance degradation.\n",
      "25/09/18 07:31:18 WARN WindowExec: No Partition Defined for Window operation! Moving all data to a single partition, this can cause serious performance degradation.\n",
      "25/09/18 07:31:18 WARN WindowExec: No Partition Defined for Window operation! Moving all data to a single partition, this can cause serious performance degradation.\n",
      "25/09/18 07:31:18 WARN WindowExec: No Partition Defined for Window operation! Moving all data to a single partition, this can cause serious performance degradation.\n",
      "25/09/18 07:31:18 WARN WindowExec: No Partition Defined for Window operation! Moving all data to a single partition, this can cause serious performance degradation.\n",
      "25/09/18 07:31:18 WARN WindowExec: No Partition Defined for Window operation! Moving all data to a single partition, this can cause serious performance degradation.\n",
      "25/09/18 07:31:18 WARN WindowExec: No Partition Defined for Window operation! Moving all data to a single partition, this can cause serious performance degradation.\n",
      "25/09/18 07:31:18 WARN WindowExec: No Partition Defined for Window operation! Moving all data to a single partition, this can cause serious performance degradation.\n",
      "25/09/18 07:31:18 WARN WindowExec: No Partition Defined for Window operation! Moving all data to a single partition, this can cause serious performance degradation.\n",
      "25/09/18 07:31:21 WARN WindowExec: No Partition Defined for Window operation! Moving all data to a single partition, this can cause serious performance degradation.\n",
      "25/09/18 07:31:21 WARN WindowExec: No Partition Defined for Window operation! Moving all data to a single partition, this can cause serious performance degradation.\n",
      "25/09/18 07:31:21 WARN WindowExec: No Partition Defined for Window operation! Moving all data to a single partition, this can cause serious performance degradation.\n",
      "25/09/18 07:31:21 WARN WindowExec: No Partition Defined for Window operation! Moving all data to a single partition, this can cause serious performance degradation.\n",
      "25/09/18 07:31:21 WARN WindowExec: No Partition Defined for Window operation! Moving all data to a single partition, this can cause serious performance degradation.\n",
      "25/09/18 07:31:21 WARN WindowExec: No Partition Defined for Window operation! Moving all data to a single partition, this can cause serious performance degradation.\n",
      "25/09/18 07:31:22 WARN WindowExec: No Partition Defined for Window operation! Moving all data to a single partition, this can cause serious performance degradation.\n",
      "25/09/18 07:31:22 WARN WindowExec: No Partition Defined for Window operation! Moving all data to a single partition, this can cause serious performance degradation.\n",
      "25/09/18 07:31:22 WARN WindowExec: No Partition Defined for Window operation! Moving all data to a single partition, this can cause serious performance degradation.\n",
      "25/09/18 07:31:22 WARN WindowExec: No Partition Defined for Window operation! Moving all data to a single partition, this can cause serious performance degradation.\n",
      "25/09/18 07:31:23 WARN WindowExec: No Partition Defined for Window operation! Moving all data to a single partition, this can cause serious performance degradation.\n",
      "25/09/18 07:31:23 WARN WindowExec: No Partition Defined for Window operation! Moving all data to a single partition, this can cause serious performance degradation.\n",
      "25/09/18 07:31:24 WARN WindowExec: No Partition Defined for Window operation! Moving all data to a single partition, this can cause serious performance degradation.\n",
      "25/09/18 07:31:24 WARN WindowExec: No Partition Defined for Window operation! Moving all data to a single partition, this can cause serious performance degradation.\n",
      "25/09/18 07:31:25 WARN WindowExec: No Partition Defined for Window operation! Moving all data to a single partition, this can cause serious performance degradation.\n",
      "25/09/18 07:31:25 WARN WindowExec: No Partition Defined for Window operation! Moving all data to a single partition, this can cause serious performance degradation.\n",
      "25/09/18 07:31:25 WARN WindowExec: No Partition Defined for Window operation! Moving all data to a single partition, this can cause serious performance degradation.\n",
      "25/09/18 07:31:25 WARN WindowExec: No Partition Defined for Window operation! Moving all data to a single partition, this can cause serious performance degradation.\n",
      "25/09/18 07:31:26 WARN WindowExec: No Partition Defined for Window operation! Moving all data to a single partition, this can cause serious performance degradation.\n",
      "25/09/18 07:31:26 WARN WindowExec: No Partition Defined for Window operation! Moving all data to a single partition, this can cause serious performance degradation.\n",
      "25/09/18 07:31:26 WARN WindowExec: No Partition Defined for Window operation! Moving all data to a single partition, this can cause serious performance degradation.\n",
      "25/09/18 07:31:26 WARN WindowExec: No Partition Defined for Window operation! Moving all data to a single partition, this can cause serious performance degradation.\n",
      "                                                                                \r"
     ]
    }
   ],
   "source": [
    "out_df=result.unionByName(df)\n",
    "\n",
    "\n",
    "(\n",
    "    out_df.write\n",
    "    .format(\"jdbc\")\n",
    "    .option(\"url\", URL)\n",
    "    .option(\"user\", USER)\n",
    "    .option(\"password\", PWD)\n",
    "    .option(\"driver\", \"org.postgresql.Driver\")\n",
    "    .option(\"dbtable\", \"public.bid_info\")  # destination table\n",
    "    .mode(\"overwrite\")  # creates table if not exists, replaces if exists\n",
    "    .save()\n",
    ")\n"
   ]
  },
  {
   "cell_type": "code",
   "execution_count": null,
   "id": "8a25e6a6",
   "metadata": {},
   "outputs": [],
   "source": []
  },
  {
   "cell_type": "code",
   "execution_count": null,
   "id": "76880428",
   "metadata": {},
   "outputs": [],
   "source": []
  },
  {
   "cell_type": "code",
   "execution_count": null,
   "id": "d70a2c57",
   "metadata": {},
   "outputs": [],
   "source": []
  },
  {
   "cell_type": "code",
   "execution_count": null,
   "id": "d3352671",
   "metadata": {},
   "outputs": [],
   "source": []
  },
  {
   "cell_type": "code",
   "execution_count": null,
   "id": "fdea69a1",
   "metadata": {},
   "outputs": [],
   "source": []
  },
  {
   "cell_type": "code",
   "execution_count": null,
   "id": "63a63c2b",
   "metadata": {},
   "outputs": [],
   "source": []
  },
  {
   "cell_type": "code",
   "execution_count": null,
   "id": "43191c71",
   "metadata": {},
   "outputs": [],
   "source": []
  },
  {
   "cell_type": "code",
   "execution_count": null,
   "id": "2e288273",
   "metadata": {},
   "outputs": [],
   "source": [
    "final_df.show()"
   ]
  },
  {
   "cell_type": "code",
   "execution_count": null,
   "id": "69483570",
   "metadata": {},
   "outputs": [],
   "source": []
  },
  {
   "cell_type": "code",
   "execution_count": null,
   "id": "17be05b7",
   "metadata": {},
   "outputs": [],
   "source": []
  }
 ],
 "metadata": {
  "kernelspec": {
   "display_name": "Python 3",
   "language": "python",
   "name": "python3"
  },
  "language_info": {
   "codemirror_mode": {
    "name": "ipython",
    "version": 3
   },
   "file_extension": ".py",
   "mimetype": "text/x-python",
   "name": "python",
   "nbconvert_exporter": "python",
   "pygments_lexer": "ipython3",
   "version": "3.8.10"
  }
 },
 "nbformat": 4,
 "nbformat_minor": 5
}

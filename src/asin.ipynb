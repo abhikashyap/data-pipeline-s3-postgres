{
 "cells": [
  {
   "cell_type": "code",
   "execution_count": 68,
   "id": "a60bdf06",
   "metadata": {},
   "outputs": [],
   "source": [
    "ip='172.31.19.202'\n",
    "db='amazon_sp_api'\n",
    "password='Techblooprint123'\n",
    "user=\"blooprint\"\n"
   ]
  },
  {
   "cell_type": "code",
   "execution_count": 69,
   "id": "f268c404",
   "metadata": {},
   "outputs": [],
   "source": [
    "from pyspark.sql import SparkSession\n",
    "import os\n",
    "from clickhouse_driver import Client\n",
    "\n",
    "spark = SparkSession.builder \\\n",
    "    .appName(\"BigCSVWrite\") \\\n",
    "    .config(\"spark.driver.memory\", \"5g\") \\\n",
    "    .config(\"spark.executor.memory\", \"6g\") \\\n",
    "    .getOrCreate()\n",
    "spark.conf.set(\"spark.sql.adaptive.enabled\", \"true\")\n",
    "spark.conf.set(\"spark.sql.shuffle.partitions\", \"50\")\n",
    "from pyspark.sql import SparkSession\n",
    "from pyspark.sql import DataFrame  # or: from pyspark.sql.dataframe import DataFrame\n",
    "from pyspark.sql import functions as F, types as T\n",
    "from pyspark.sql import SparkSession\n",
    "spark = SparkSession.builder.getOrCreate()\n",
    "from pyspark.sql.functions import broadcast\n",
    "from pyspark.sql import functions as F\n",
    "# Should not raise:\n",
    "spark.sparkContext._jvm.java.lang.Class.forName(\"org.postgresql.Driver\")\n",
    "\n",
    "URL  = os.getenv(\"PG_JDBC_URL\", f\"jdbc:postgresql://{ip}:5433/{db}\")\n",
    "USER = os.getenv(\"PG_USER\", user)\n",
    "PWD  = os.getenv(\"PG_PASSWORD\", password)\n",
    "portfolio_query = \"(SELECT * FROM public.portfolio_id_name_mapping) AS p\"\n",
    "\n",
    "portfolio_id_name_mapping = (spark.read.format(\"jdbc\")\n",
    "      .option(\"url\", URL)\n",
    "      .option(\"user\", USER)\n",
    "      .option(\"password\", PWD)\n",
    "      .option(\"driver\", \"org.postgresql.Driver\")\n",
    "      .option(\"dbtable\", portfolio_query)\n",
    "      .load())\n",
    "\n"
   ]
  },
  {
   "cell_type": "code",
   "execution_count": 70,
   "id": "6c53c15d",
   "metadata": {},
   "outputs": [],
   "source": [
    "sp_advertised_query = \"\"\"\n",
    "(SELECT account_name,\n",
    "            \"advertisedAsin\" AS asin,\n",
    "            \"campaignId\" AS campaign_id,\n",
    "            \"campaignName\" AS campaign_name,\n",
    "            \"adGroupName\" AS ad_group_name,\n",
    "            date AS date,\n",
    "            impressions,\n",
    "            clicks,\n",
    "            spend AS ads_spend,\n",
    "            sales30d AS ads_sales,\n",
    "            \"unitsSoldClicks30d\" AS units\n",
    "           FROM public.sp_advertised_product) as ad_p\n",
    "\n",
    "\"\"\"\n",
    "\n",
    "sp_advertised_df = (spark.read.format(\"jdbc\")\n",
    "      .option(\"url\", URL)\n",
    "      .option(\"user\", USER)\n",
    "      .option(\"password\", PWD)\n",
    "      .option(\"driver\", \"org.postgresql.Driver\")\n",
    "      .option(\"dbtable\", sp_advertised_query)\n",
    "      .load())\n",
    "sp_advertised_df=sp_advertised_df.withColumn(\"date\",\n",
    "    F.col(\"date\").cast(T.DateType())\n",
    ")"
   ]
  },
  {
   "cell_type": "code",
   "execution_count": 71,
   "id": "ed7ad2f6",
   "metadata": {},
   "outputs": [],
   "source": [
    "sd_advertised_query = \"\"\"\n",
    "(SELECT account_name,\n",
    "            \"promotedAsin\" AS asin,\n",
    "            \"campaignId\" AS campaign_id,\n",
    "            \"campaignName\" AS campaign_name,\n",
    "            \"adGroupName\" AS ad_group_name,\n",
    "            date AS date,\n",
    "            impressions,\n",
    "            clicks,\n",
    "            cost AS ads_spend,\n",
    "            sales AS ads_sales,\n",
    "            \"unitsSold\" AS units\n",
    "           FROM public.sd_advertised_product) as sd_advertised_query\n",
    "\"\"\"\n",
    "\n",
    "sd_advertised_df = (spark.read.format(\"jdbc\")\n",
    "      .option(\"url\", URL)\n",
    "      .option(\"user\", USER)\n",
    "      .option(\"password\", PWD)\n",
    "      .option(\"driver\", \"org.postgresql.Driver\")\n",
    "      .option(\"dbtable\", sd_advertised_query)\n",
    "      .load())\n",
    "sd_advertised_df=sd_advertised_df.withColumn(\"date\",\n",
    "    F.col(\"date\").cast(T.DateType())\n",
    ")"
   ]
  },
  {
   "cell_type": "code",
   "execution_count": 72,
   "id": "fdea69a1",
   "metadata": {},
   "outputs": [],
   "source": [
    "sb_advertised_query = \"\"\"\n",
    "(select account_name,\n",
    "            \"purchasedAsin\" AS asin,\n",
    "            \"campaignId\" AS campaign_id,\n",
    "            \"campaignName\" AS campaign_name,\n",
    "            \"adGroupName\" AS ad_group_name,\n",
    "            date AS date,\n",
    "            NULL::numeric AS impressions,\n",
    "            NULL::numeric AS clicks,\n",
    "            NULL::numeric AS ads_spend,\n",
    "            sales14d AS ads_sales,\n",
    "            \"unitsSold14d\" AS units from public.sb_purchased_product) as sb_advertised_query\n",
    "\"\"\"\n",
    "\n",
    "sb_advertised_df = (spark.read.format(\"jdbc\")\n",
    "      .option(\"url\", URL)\n",
    "      .option(\"user\", USER)\n",
    "      .option(\"password\", PWD)\n",
    "      .option(\"driver\", \"org.postgresql.Driver\")\n",
    "      .option(\"dbtable\", sb_advertised_query)\n",
    "      .load())\n",
    "sb_advertised_df=sd_advertised_df.withColumn(\"date\",\n",
    "    F.col(\"date\").cast(T.DateType())\n",
    ")"
   ]
  },
  {
   "cell_type": "code",
   "execution_count": 73,
   "id": "63a63c2b",
   "metadata": {},
   "outputs": [],
   "source": [
    "advertised_asin=sp_advertised_df.unionByName(sb_advertised_df).unionByName(sd_advertised_df)"
   ]
  },
  {
   "cell_type": "code",
   "execution_count": 74,
   "id": "3c50e5e4",
   "metadata": {},
   "outputs": [],
   "source": [
    "advertised_asin=advertised_asin.withColumn(\"campaign_id\",\n",
    "                           F.split(\n",
    "                               F.col(\"campaign_id\").cast(T.StringType()),r'\\.'\n",
    "                               )[0].astype(\"long\")\n",
    "                            )"
   ]
  },
  {
   "cell_type": "code",
   "execution_count": 75,
   "id": "17be05b7",
   "metadata": {},
   "outputs": [],
   "source": [
    "campaign_query = \"(SELECT * FROM public.campaigns) as c\"\n",
    "campaigns = (spark.read.format(\"jdbc\")\n",
    "      .option(\"url\", URL)\n",
    "      .option(\"user\", USER)\n",
    "      .option(\"password\", PWD)\n",
    "      .option(\"driver\", \"org.postgresql.Driver\")\n",
    "      .option(\"dbtable\", campaign_query)\n",
    "      .load())\n",
    "\n",
    "campaign_df=campaigns.select(F.col(\"campaignId\").alias(\"campaign_id\"),\n",
    "                 F.col(\"portfolioId\").alias(\"portfolioId\")\n",
    "                 ).dropDuplicates(['campaign_id'])\n",
    "portfolio_df=portfolio_id_name_mapping.select(F.col(\"portfolioId\").alias(\"portfolioId\"),\n",
    "                                 F.col(\"name\").alias(\"portfolio_name\")).dropDuplicates(['portfolioId'])\n",
    "portfolio_mapping=campaign_df.join(portfolio_df,on='portfolioId',how='left')"
   ]
  },
  {
   "cell_type": "code",
   "execution_count": 77,
   "id": "226ed011",
   "metadata": {},
   "outputs": [
    {
     "name": "stderr",
     "output_type": "stream",
     "text": [
      "[Stage 181:>                                                        (0 + 1) / 1]\r"
     ]
    },
    {
     "name": "stdout",
     "output_type": "stream",
     "text": [
      "+---------------+---------------+------------------+\n",
      "|    portfolioId|    campaign_id|    portfolio_name|\n",
      "+---------------+---------------+------------------+\n",
      "|           NULL|100076249959544|              NULL|\n",
      "|227942005450585|100118912681214|     Collagen Skin|\n",
      "|           NULL|100331592418431|              NULL|\n",
      "|           NULL|100373123647857|              NULL|\n",
      "|           NULL|  1004821708244|              NULL|\n",
      "|199478083998011|100645553381123|     Collagen Bone|\n",
      "|           NULL|100688068888370|              NULL|\n",
      "| 12236653894609|100725861019934|         Audio ANS|\n",
      "|           NULL|100790136138793|              NULL|\n",
      "| 97769239140773| 10118589023770|      Whey Protein|\n",
      "|231025265874213|101199648918799|        Moon Latte|\n",
      "|           NULL|101242142228603|              NULL|\n",
      "|           NULL|101260849427507|              NULL|\n",
      "|258918003083195| 10129075998155|             GLASS|\n",
      "|109044300472709|101411534730219|MultiVitamin Women|\n",
      "|           NULL|101429469803822|              NULL|\n",
      "|           NULL|101588492747248|              NULL|\n",
      "|112962076007596|101694014307247|         WATER JUG|\n",
      "|232671947907487|101758757499207|    Focus Campaign|\n",
      "| 97769239140773|101783864573030|      Whey Protein|\n",
      "+---------------+---------------+------------------+\n",
      "only showing top 20 rows\n",
      "\n"
     ]
    },
    {
     "name": "stderr",
     "output_type": "stream",
     "text": [
      "                                                                                \r"
     ]
    }
   ],
   "source": [
    "portfolio_mapping.show()"
   ]
  },
  {
   "cell_type": "code",
   "execution_count": 79,
   "id": "4f0378e2",
   "metadata": {},
   "outputs": [],
   "source": [
    "portfolio_mapping=portfolio_mapping.drop_duplicates()"
   ]
  },
  {
   "cell_type": "code",
   "execution_count": null,
   "id": "8838a57d",
   "metadata": {},
   "outputs": [],
   "source": [
    "asin_level_data=portfolio_mapping.join(advertised_asin,how='outer',on=\"campaign_id\")"
   ]
  },
  {
   "cell_type": "code",
   "execution_count": 81,
   "id": "39c3d678",
   "metadata": {},
   "outputs": [],
   "source": [
    "asin_data=asin_level_data.fillna({\"impressions\": 0,\n",
    "                \"clicks\":0,\n",
    "                 \"ads_spend\":0,\n",
    "                 \"UNITS\":0,\n",
    "                 \"ads_sales\":0,\n",
    "                 \"units\":0,\n",
    "                }).select(\n",
    "                    F.col(\"account_name\").alias(\"ACCOUNT NAME\"),\n",
    "                    F.col(\"asin\").alias(\"ASINS\"),\n",
    "                    F.col(\"portfolio_name\").alias(\"PORTFOLIOS\"),\n",
    "                    F.col(\"campaign_name\").alias(\"CAMPAIGNS\"),\n",
    "                    F.col(\"ad_group_name\").alias(\"AD GRP\"),\n",
    "\n",
    "                    F.col(\"date\").alias(\"DATE\"),\n",
    "                    F.col(\"impressions\").astype(\"int\").alias(\"IMPRSN\"),\n",
    "                    F.col(\"clicks\").astype(\"int\").alias(\"CLICKS\"),\n",
    "                    F.col(\"ads_spend\").astype(\"int\").alias(\"SPEND\"),\n",
    "                    F.col(\"ads_sales\").astype(\"int\").alias(\"SALES\"),\n",
    "                    F.col(\"units\").astype(\"int\").alias(\"UNITS\")\n",
    "\n",
    "                )"
   ]
  },
  {
   "cell_type": "code",
   "execution_count": 82,
   "id": "059596e0",
   "metadata": {},
   "outputs": [],
   "source": [
    "dummy_asin_data=asin_data.filter(F.col(\"ACCOUNT NAME\")=='awenest')"
   ]
  },
  {
   "cell_type": "code",
   "execution_count": 83,
   "id": "f1df1507",
   "metadata": {},
   "outputs": [],
   "source": [
    "pattern = r\"(?i)\\bawenest\\b\"   \n",
    "string_cols = [c for c, t in dummy_asin_data.dtypes if t == \"string\"]\n",
    "\n",
    "dummy_asin_data = dummy_asin_data.select([\n",
    "    F.regexp_replace(F.col(c), pattern, \"Dummy\").alias(c) if c in string_cols else F.col(c)\n",
    "    for c, _ in dummy_asin_data.dtypes\n",
    "])"
   ]
  },
  {
   "cell_type": "code",
   "execution_count": 84,
   "id": "08b20e72",
   "metadata": {},
   "outputs": [],
   "source": [
    "final_asin_data=asin_data.unionByName(dummy_asin_data)"
   ]
  },
  {
   "cell_type": "code",
   "execution_count": 85,
   "id": "6a04ef0a",
   "metadata": {},
   "outputs": [
    {
     "name": "stderr",
     "output_type": "stream",
     "text": [
      "                                                                                \r"
     ]
    }
   ],
   "source": [
    "(\n",
    "    final_asin_data.write\n",
    "    .format(\"jdbc\")\n",
    "    .option(\"url\", URL)\n",
    "    .option(\"user\", USER)\n",
    "    .option(\"password\", PWD)\n",
    "    .option(\"driver\", \"org.postgresql.Driver\")\n",
    "    .option(\"dbtable\", \"public.asin_info\")  # destination table\n",
    "    .mode(\"overwrite\")  # creates table if not exists, replaces if exists\n",
    "    .save()\n",
    ")\n"
   ]
  },
  {
   "cell_type": "code",
   "execution_count": null,
   "id": "f3cbb828",
   "metadata": {},
   "outputs": [],
   "source": []
  }
 ],
 "metadata": {
  "kernelspec": {
   "display_name": "Python 3",
   "language": "python",
   "name": "python3"
  },
  "language_info": {
   "codemirror_mode": {
    "name": "ipython",
    "version": 3
   },
   "file_extension": ".py",
   "mimetype": "text/x-python",
   "name": "python",
   "nbconvert_exporter": "python",
   "pygments_lexer": "ipython3",
   "version": "3.8.10"
  }
 },
 "nbformat": 4,
 "nbformat_minor": 5
}

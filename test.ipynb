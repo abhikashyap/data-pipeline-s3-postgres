{
 "cells": [
  {
   "cell_type": "code",
   "execution_count": 1,
   "id": "611f8051",
   "metadata": {},
   "outputs": [
    {
     "data": {
      "text/plain": [
       "'/opt/conda/bin/python'"
      ]
     },
     "execution_count": 1,
     "metadata": {},
     "output_type": "execute_result"
    }
   ],
   "source": [
    "import sys; sys.executable\n"
   ]
  },
  {
   "cell_type": "code",
   "execution_count": 2,
   "id": "c1b468c1",
   "metadata": {},
   "outputs": [
    {
     "name": "stdout",
     "output_type": "stream",
     "text": [
      "+------------+-------+------------+--------------------+------------+--------------------+-------+---------+------+------+-----+-----+-----+-----+\n",
      "|  PORTFOLIOS|ADS TYP|ACCOUNT NAME|           CAMPAIGNS| ad_group_id|             KEYWORD|   DATE|MATCH TYP|IMPRSN|CLICKS|UNITS|  CPC|SALES|SPEND|\n",
      "+------------+-------+------------+--------------------+------------+--------------------+-------+---------+------+------+-----+-----+-----+-----+\n",
      "| Chimney-HOB|    PCA|   BeyondNxt|PCA-Spotlight-Ast...|M4FUE3IXDGOD|best chimney for ...|07-2025|    EXACT|   331|     7|    0| 33.0|    0|232.0|\n",
      "| Chimney-HOB|    PCA|   BeyondNxt|  PCA-Spotlight-Cube|9W76JZTQH4AN|       slant chimney|07-2025|    EXACT|   189|     5|    0| 42.0|    0|208.0|\n",
      "| Chimney-HOB|    PCA|   BeyondNxt|PCA-Spotlight-Ast...|M4FUE3IXDGOD|pigeon chimney fo...|07-2025|    EXACT|   435|     5|    0| 91.0|    0|457.0|\n",
      "| Chimney-HOB|    PCA|   BeyondNxt|  PCA-Spotlight-Cube|9W76JZTQH4AN|kitchen chimney a...|07-2025|    EXACT|    41|     1|    0| 45.0|    0| 45.0|\n",
      "|Chimney 60cm|    PCA|   BeyondNxt|FK-Asteria-60cm-P...|QVTO1N7L4WKG|kitchen chimney a...|07-2025|    EXACT|     1|     0|    0|  0.0|    0|  0.0|\n",
      "| Chimney-HOB|    PCA|   BeyondNxt|PCA-Spotlight-Ast...|M4FUE3IXDGOD|        chimney 75cm|07-2025|    EXACT|    52|     0|    0|  0.0|    0| 36.0|\n",
      "| Chimney-HOB|    PCA|   BeyondNxt|PCA-Spotlight-Hob...|0TH3EIV3QKEY|gas stoves automa...|07-2025|    EXACT|    69|     5|    0|  4.0|    0| 21.0|\n",
      "| Chimney-HOB|    PCA|   BeyondNxt|PCA-Spotlight-Hob...|0TH3EIV3QKEY|    hob top 3 burner|07-2025|    EXACT|    13|     1|    0|  4.0|    0|  4.0|\n",
      "| Chimney-HOB|    PCA|   BeyondNxt|PCA-Spotlight-Ast...|M4FUE3IXDGOD|chimney for kitch...|07-2025|    EXACT|   175|     2|    0| 92.0|    0|184.0|\n",
      "| Chimney-HOB|    PCA|   BeyondNxt|  PCA-Spotlight-Cube|9W76JZTQH4AN|kitchen chimney a...|07-2025|    EXACT|   124|     1|    0|167.0|    0|167.0|\n",
      "| Chimney-HOB|    PCA|   BeyondNxt|PCA-Spotlight-Ast...|M4FUE3IXDGOD|chimney for kitch...|07-2025|    EXACT|   329|     4|    0| 58.0|    0|230.0|\n",
      "| Chimney-HOB|    PCA|   BeyondNxt|PCA-Spotlight-Hob...|0TH3EIV3QKEY|best gas stove 4 ...|07-2025|    EXACT|     9|     0|    0|  0.0|    0| 14.0|\n",
      "| Chimney-HOB|    PCA|   BeyondNxt|  PCA-Spotlight-Cube|9W76JZTQH4AN|small chimney for...|07-2025|    EXACT|   177|     6|    0| 32.0|    0|195.0|\n",
      "| Chimney-HOB|    PCA|   BeyondNxt|PCA-Spotlight-Ast...|M4FUE3IXDGOD|kutchina kitchen ...|07-2025|    EXACT|   379|     4|    0| 99.0|    0|398.0|\n",
      "| Chimney-HOB|    PCA|   BeyondNxt|PCA-Spotlight-Hob...|0TH3EIV3QKEY|automatic hob gas...|07-2025|    EXACT|    15|     0|    0|  0.0|    0|  5.0|\n",
      "| Chimney-HOB|    PCA|   BeyondNxt|PCA-Spotlight-Hob...|0TH3EIV3QKEY|gas stove with timer|07-2025|    EXACT|    13|     3|    0|  1.0|    0|  4.0|\n",
      "| Chimney-HOB|    PCA|   BeyondNxt|PCA-Spotlight-Hob...|0TH3EIV3QKEY|         kitchen hob|07-2025|    EXACT|    17|     0|    0|  0.0|    0| 26.0|\n",
      "| Chimney-HOB|    PCA|   BeyondNxt|PCA-Spotlight-Ast...|M4FUE3IXDGOD|kitchen chimney 7...|07-2025|    EXACT|    16|     0|    0|  0.0|    0| 11.0|\n",
      "| Chimney-HOB|    PCA|   BeyondNxt|PCA-Spotlight-Hob...|0TH3EIV3QKEY|auto ignition gas...|07-2025|    EXACT|    47|     3|    0| 24.0|    0| 71.0|\n",
      "| Chimney-HOB|    PCA|   BeyondNxt|PCA-Spotlight-Ast...|M4FUE3IXDGOD|  chimney auto clean|07-2025|    EXACT|    73|     0|    0|  0.0|    0| 51.0|\n",
      "+------------+-------+------------+--------------------+------------+--------------------+-------+---------+------+------+-----+-----+-----+-----+\n",
      "only showing top 20 rows\n",
      "\n"
     ]
    }
   ],
   "source": [
    "from pyspark.sql import SparkSession\n",
    "from pyspark.sql import DataFrame  # or: from pyspark.sql.dataframe import DataFrame\n",
    "from pyspark.sql import functions as F, types as T\n",
    "\n",
    "spark = SparkSession.builder.appName(\"check\").getOrCreate() # type: ignore # ignore\n",
    "\n",
    "df: DataFrame = (\n",
    "    spark.read.format(\"csv\")\n",
    "    .option(\"inferSchema\", True)\n",
    "    .option(\"header\", True)\n",
    "    .load(\"fk.csv\")\n",
    ")\n",
    "df.show()"
   ]
  },
  {
   "cell_type": "code",
   "execution_count": null,
   "id": "3d3b83c9",
   "metadata": {},
   "outputs": [],
   "source": []
  }
 ],
 "metadata": {
  "kernelspec": {
   "display_name": "base",
   "language": "python",
   "name": "python3"
  },
  "language_info": {
   "codemirror_mode": {
    "name": "ipython",
    "version": 3
   },
   "file_extension": ".py",
   "mimetype": "text/x-python",
   "name": "python",
   "nbconvert_exporter": "python",
   "pygments_lexer": "ipython3",
   "version": "3.11.6"
  }
 },
 "nbformat": 4,
 "nbformat_minor": 5
}
